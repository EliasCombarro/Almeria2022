{
  "nbformat": 4,
  "nbformat_minor": 0,
  "metadata": {
    "colab": {
      "provenance": [],
      "collapsed_sections": []
    },
    "kernelspec": {
      "name": "python3",
      "display_name": "Python 3"
    },
    "language_info": {
      "name": "python"
    }
  },
  "cells": [
    {
      "cell_type": "markdown",
      "source": [
        "#3.-VQE\n",
        "\n",
        "### Setup"
      ],
      "metadata": {
        "id": "Jy8zoPFVL7v1"
      }
    },
    {
      "cell_type": "code",
      "execution_count": 1,
      "metadata": {
        "id": "Wh0ADYK2yfvP",
        "colab": {
          "base_uri": "https://localhost:8080/"
        },
        "outputId": "82d27ab4-d6a6-4e44-c9f3-2c3367d8c396"
      },
      "outputs": [
        {
          "output_type": "stream",
          "name": "stdout",
          "text": [
            "Looking in indexes: https://pypi.org/simple, https://us-python.pkg.dev/colab-wheels/public/simple/\n",
            "Collecting qiskit\n",
            "  Downloading qiskit-0.39.0.tar.gz (13 kB)\n",
            "Collecting qiskit-terra==0.22.0\n",
            "  Downloading qiskit_terra-0.22.0-cp37-cp37m-manylinux_2_17_x86_64.manylinux2014_x86_64.whl (4.7 MB)\n",
            "\u001b[K     |████████████████████████████████| 4.7 MB 7.5 MB/s \n",
            "\u001b[?25hCollecting qiskit-aer==0.11.0\n",
            "  Downloading qiskit_aer-0.11.0-cp37-cp37m-manylinux_2_17_x86_64.manylinux2014_x86_64.whl (19.2 MB)\n",
            "\u001b[K     |████████████████████████████████| 19.2 MB 1.4 MB/s \n",
            "\u001b[?25hCollecting qiskit-ibmq-provider==0.19.2\n",
            "  Downloading qiskit_ibmq_provider-0.19.2-py3-none-any.whl (240 kB)\n",
            "\u001b[K     |████████████████████████████████| 240 kB 46.1 MB/s \n",
            "\u001b[?25hRequirement already satisfied: scipy>=1.0 in /usr/local/lib/python3.7/dist-packages (from qiskit-aer==0.11.0->qiskit) (1.7.3)\n",
            "Requirement already satisfied: numpy>=1.16.3 in /usr/local/lib/python3.7/dist-packages (from qiskit-aer==0.11.0->qiskit) (1.21.6)\n",
            "Requirement already satisfied: requests>=2.19 in /usr/local/lib/python3.7/dist-packages (from qiskit-ibmq-provider==0.19.2->qiskit) (2.23.0)\n",
            "Collecting requests-ntlm>=1.1.0\n",
            "  Downloading requests_ntlm-1.1.0-py2.py3-none-any.whl (5.7 kB)\n",
            "Requirement already satisfied: python-dateutil>=2.8.0 in /usr/local/lib/python3.7/dist-packages (from qiskit-ibmq-provider==0.19.2->qiskit) (2.8.2)\n",
            "Collecting websockets>=10.0\n",
            "  Downloading websockets-10.3-cp37-cp37m-manylinux_2_5_x86_64.manylinux1_x86_64.manylinux_2_12_x86_64.manylinux2010_x86_64.whl (112 kB)\n",
            "\u001b[K     |████████████████████████████████| 112 kB 43.8 MB/s \n",
            "\u001b[?25hCollecting websocket-client>=1.0.1\n",
            "  Downloading websocket_client-1.4.1-py3-none-any.whl (55 kB)\n",
            "\u001b[K     |████████████████████████████████| 55 kB 3.4 MB/s \n",
            "\u001b[?25hRequirement already satisfied: urllib3>=1.21.1 in /usr/local/lib/python3.7/dist-packages (from qiskit-ibmq-provider==0.19.2->qiskit) (1.24.3)\n",
            "Collecting ply>=3.10\n",
            "  Downloading ply-3.11-py2.py3-none-any.whl (49 kB)\n",
            "\u001b[K     |████████████████████████████████| 49 kB 7.3 MB/s \n",
            "\u001b[?25hRequirement already satisfied: typing-extensions in /usr/local/lib/python3.7/dist-packages (from qiskit-terra==0.22.0->qiskit) (4.1.1)\n",
            "Requirement already satisfied: psutil>=5 in /usr/local/lib/python3.7/dist-packages (from qiskit-terra==0.22.0->qiskit) (5.4.8)\n",
            "Requirement already satisfied: sympy>=1.3 in /usr/local/lib/python3.7/dist-packages (from qiskit-terra==0.22.0->qiskit) (1.7.1)\n",
            "Requirement already satisfied: dill>=0.3 in /usr/local/lib/python3.7/dist-packages (from qiskit-terra==0.22.0->qiskit) (0.3.5.1)\n",
            "Collecting symengine>=0.9\n",
            "  Downloading symengine-0.9.2-cp37-cp37m-manylinux2010_x86_64.whl (37.5 MB)\n",
            "\u001b[K     |████████████████████████████████| 37.5 MB 54.3 MB/s \n",
            "\u001b[?25hCollecting retworkx>=0.11.0\n",
            "  Downloading retworkx-0.12.0-py3-none-any.whl (10 kB)\n",
            "Collecting tweedledum<2.0,>=1.1\n",
            "  Downloading tweedledum-1.1.1-cp37-cp37m-manylinux_2_12_x86_64.manylinux2010_x86_64.whl (943 kB)\n",
            "\u001b[K     |████████████████████████████████| 943 kB 54.5 MB/s \n",
            "\u001b[?25hCollecting shared-memory38\n",
            "  Downloading shared_memory38-0.1.2-cp37-cp37m-manylinux_2_5_x86_64.manylinux1_x86_64.whl (25 kB)\n",
            "Collecting stevedore>=3.0.0\n",
            "  Downloading stevedore-3.5.1-py3-none-any.whl (50 kB)\n",
            "\u001b[K     |████████████████████████████████| 50 kB 273 kB/s \n",
            "\u001b[?25hCollecting importlib-metadata<5.0\n",
            "  Downloading importlib_metadata-4.13.0-py3-none-any.whl (23 kB)\n",
            "Requirement already satisfied: zipp>=0.5 in /usr/local/lib/python3.7/dist-packages (from importlib-metadata<5.0->qiskit-terra==0.22.0->qiskit) (3.9.0)\n",
            "Requirement already satisfied: six>=1.5 in /usr/local/lib/python3.7/dist-packages (from python-dateutil>=2.8.0->qiskit-ibmq-provider==0.19.2->qiskit) (1.15.0)\n",
            "Requirement already satisfied: chardet<4,>=3.0.2 in /usr/local/lib/python3.7/dist-packages (from requests>=2.19->qiskit-ibmq-provider==0.19.2->qiskit) (3.0.4)\n",
            "Requirement already satisfied: idna<3,>=2.5 in /usr/local/lib/python3.7/dist-packages (from requests>=2.19->qiskit-ibmq-provider==0.19.2->qiskit) (2.10)\n",
            "Requirement already satisfied: certifi>=2017.4.17 in /usr/local/lib/python3.7/dist-packages (from requests>=2.19->qiskit-ibmq-provider==0.19.2->qiskit) (2022.9.24)\n",
            "Collecting cryptography>=1.3\n",
            "  Downloading cryptography-38.0.1-cp36-abi3-manylinux_2_24_x86_64.whl (4.0 MB)\n",
            "\u001b[K     |████████████████████████████████| 4.0 MB 32.3 MB/s \n",
            "\u001b[?25hCollecting ntlm-auth>=1.0.2\n",
            "  Downloading ntlm_auth-1.5.0-py2.py3-none-any.whl (29 kB)\n",
            "Requirement already satisfied: cffi>=1.12 in /usr/local/lib/python3.7/dist-packages (from cryptography>=1.3->requests-ntlm>=1.1.0->qiskit-ibmq-provider==0.19.2->qiskit) (1.15.1)\n",
            "Requirement already satisfied: pycparser in /usr/local/lib/python3.7/dist-packages (from cffi>=1.12->cryptography>=1.3->requests-ntlm>=1.1.0->qiskit-ibmq-provider==0.19.2->qiskit) (2.21)\n",
            "Collecting rustworkx==0.12.0\n",
            "  Downloading rustworkx-0.12.0-cp37-cp37m-manylinux_2_17_x86_64.manylinux2014_x86_64.whl (1.9 MB)\n",
            "\u001b[K     |████████████████████████████████| 1.9 MB 44.1 MB/s \n",
            "\u001b[?25hCollecting pbr!=2.1.0,>=2.0.0\n",
            "  Downloading pbr-5.10.0-py2.py3-none-any.whl (112 kB)\n",
            "\u001b[K     |████████████████████████████████| 112 kB 52.0 MB/s \n",
            "\u001b[?25hRequirement already satisfied: mpmath>=0.19 in /usr/local/lib/python3.7/dist-packages (from sympy>=1.3->qiskit-terra==0.22.0->qiskit) (1.2.1)\n",
            "Building wheels for collected packages: qiskit\n",
            "  Building wheel for qiskit (setup.py) ... \u001b[?25l\u001b[?25hdone\n",
            "  Created wheel for qiskit: filename=qiskit-0.39.0-py3-none-any.whl size=12188 sha256=e490faa74cbe9f374cf6dd56201870c0a4948ca3439682ad315abf412a4d8e8d\n",
            "  Stored in directory: /root/.cache/pip/wheels/63/d0/9a/257143dfc211b1732e1dadf41f281d477251d9cc0108a6f209\n",
            "Successfully built qiskit\n",
            "Installing collected packages: rustworkx, pbr, importlib-metadata, tweedledum, symengine, stevedore, shared-memory38, retworkx, ply, ntlm-auth, cryptography, websockets, websocket-client, requests-ntlm, qiskit-terra, qiskit-ibmq-provider, qiskit-aer, qiskit\n",
            "  Attempting uninstall: importlib-metadata\n",
            "    Found existing installation: importlib-metadata 5.0.0\n",
            "    Uninstalling importlib-metadata-5.0.0:\n",
            "      Successfully uninstalled importlib-metadata-5.0.0\n",
            "Successfully installed cryptography-38.0.1 importlib-metadata-4.13.0 ntlm-auth-1.5.0 pbr-5.10.0 ply-3.11 qiskit-0.39.0 qiskit-aer-0.11.0 qiskit-ibmq-provider-0.19.2 qiskit-terra-0.22.0 requests-ntlm-1.1.0 retworkx-0.12.0 rustworkx-0.12.0 shared-memory38-0.1.2 stevedore-3.5.1 symengine-0.9.2 tweedledum-1.1.1 websocket-client-1.4.1 websockets-10.3\n"
          ]
        }
      ],
      "source": [
        "pip install qiskit"
      ]
    },
    {
      "cell_type": "code",
      "source": [
        "pip install qiskit-nature"
      ],
      "metadata": {
        "id": "kJLLCRr_L2RD",
        "colab": {
          "base_uri": "https://localhost:8080/"
        },
        "outputId": "f655a4c3-a247-44de-e36d-c940e9373e9c"
      },
      "execution_count": 2,
      "outputs": [
        {
          "output_type": "stream",
          "name": "stdout",
          "text": [
            "Looking in indexes: https://pypi.org/simple, https://us-python.pkg.dev/colab-wheels/public/simple/\n",
            "Collecting qiskit-nature\n",
            "  Downloading qiskit_nature-0.4.5-py3-none-any.whl (2.0 MB)\n",
            "\u001b[K     |████████████████████████████████| 2.0 MB 8.1 MB/s \n",
            "\u001b[?25hRequirement already satisfied: scikit-learn>=0.20.0 in /usr/local/lib/python3.7/dist-packages (from qiskit-nature) (1.0.2)\n",
            "Requirement already satisfied: qiskit-terra>=0.21.0 in /usr/local/lib/python3.7/dist-packages (from qiskit-nature) (0.22.0)\n",
            "Requirement already satisfied: psutil>=5 in /usr/local/lib/python3.7/dist-packages (from qiskit-nature) (5.4.8)\n",
            "Requirement already satisfied: typing-extensions in /usr/local/lib/python3.7/dist-packages (from qiskit-nature) (4.1.1)\n",
            "Requirement already satisfied: h5py in /usr/local/lib/python3.7/dist-packages (from qiskit-nature) (3.1.0)\n",
            "Requirement already satisfied: numpy>=1.17 in /usr/local/lib/python3.7/dist-packages (from qiskit-nature) (1.21.6)\n",
            "Requirement already satisfied: retworkx>=0.10.1 in /usr/local/lib/python3.7/dist-packages (from qiskit-nature) (0.12.0)\n",
            "Requirement already satisfied: setuptools>=40.1.0 in /usr/local/lib/python3.7/dist-packages (from qiskit-nature) (57.4.0)\n",
            "Requirement already satisfied: scipy>=1.4 in /usr/local/lib/python3.7/dist-packages (from qiskit-nature) (1.7.3)\n",
            "Requirement already satisfied: importlib-metadata<5.0 in /usr/local/lib/python3.7/dist-packages (from qiskit-terra>=0.21.0->qiskit-nature) (4.13.0)\n",
            "Requirement already satisfied: tweedledum<2.0,>=1.1 in /usr/local/lib/python3.7/dist-packages (from qiskit-terra>=0.21.0->qiskit-nature) (1.1.1)\n",
            "Requirement already satisfied: symengine>=0.9 in /usr/local/lib/python3.7/dist-packages (from qiskit-terra>=0.21.0->qiskit-nature) (0.9.2)\n",
            "Requirement already satisfied: shared-memory38 in /usr/local/lib/python3.7/dist-packages (from qiskit-terra>=0.21.0->qiskit-nature) (0.1.2)\n",
            "Requirement already satisfied: sympy>=1.3 in /usr/local/lib/python3.7/dist-packages (from qiskit-terra>=0.21.0->qiskit-nature) (1.7.1)\n",
            "Requirement already satisfied: dill>=0.3 in /usr/local/lib/python3.7/dist-packages (from qiskit-terra>=0.21.0->qiskit-nature) (0.3.5.1)\n",
            "Requirement already satisfied: python-dateutil>=2.8.0 in /usr/local/lib/python3.7/dist-packages (from qiskit-terra>=0.21.0->qiskit-nature) (2.8.2)\n",
            "Requirement already satisfied: ply>=3.10 in /usr/local/lib/python3.7/dist-packages (from qiskit-terra>=0.21.0->qiskit-nature) (3.11)\n",
            "Requirement already satisfied: stevedore>=3.0.0 in /usr/local/lib/python3.7/dist-packages (from qiskit-terra>=0.21.0->qiskit-nature) (3.5.1)\n",
            "Requirement already satisfied: zipp>=0.5 in /usr/local/lib/python3.7/dist-packages (from importlib-metadata<5.0->qiskit-terra>=0.21.0->qiskit-nature) (3.9.0)\n",
            "Requirement already satisfied: six>=1.5 in /usr/local/lib/python3.7/dist-packages (from python-dateutil>=2.8.0->qiskit-terra>=0.21.0->qiskit-nature) (1.15.0)\n",
            "Requirement already satisfied: rustworkx==0.12.0 in /usr/local/lib/python3.7/dist-packages (from retworkx>=0.10.1->qiskit-nature) (0.12.0)\n",
            "Requirement already satisfied: joblib>=0.11 in /usr/local/lib/python3.7/dist-packages (from scikit-learn>=0.20.0->qiskit-nature) (1.2.0)\n",
            "Requirement already satisfied: threadpoolctl>=2.0.0 in /usr/local/lib/python3.7/dist-packages (from scikit-learn>=0.20.0->qiskit-nature) (3.1.0)\n",
            "Requirement already satisfied: pbr!=2.1.0,>=2.0.0 in /usr/local/lib/python3.7/dist-packages (from stevedore>=3.0.0->qiskit-terra>=0.21.0->qiskit-nature) (5.10.0)\n",
            "Requirement already satisfied: mpmath>=0.19 in /usr/local/lib/python3.7/dist-packages (from sympy>=1.3->qiskit-terra>=0.21.0->qiskit-nature) (1.2.1)\n",
            "Requirement already satisfied: cached-property in /usr/local/lib/python3.7/dist-packages (from h5py->qiskit-nature) (1.5.2)\n",
            "Installing collected packages: qiskit-nature\n",
            "Successfully installed qiskit-nature-0.4.5\n"
          ]
        }
      ]
    },
    {
      "cell_type": "code",
      "source": [
        "pip install pylatexenc"
      ],
      "metadata": {
        "id": "XH1RDgjgM6eN",
        "colab": {
          "base_uri": "https://localhost:8080/"
        },
        "outputId": "a606ed90-9e33-431d-e46f-1c56b3b85893"
      },
      "execution_count": 3,
      "outputs": [
        {
          "output_type": "stream",
          "name": "stdout",
          "text": [
            "Looking in indexes: https://pypi.org/simple, https://us-python.pkg.dev/colab-wheels/public/simple/\n",
            "Collecting pylatexenc\n",
            "  Downloading pylatexenc-2.10.tar.gz (162 kB)\n",
            "\u001b[K     |████████████████████████████████| 162 kB 7.6 MB/s \n",
            "\u001b[?25hBuilding wheels for collected packages: pylatexenc\n",
            "  Building wheel for pylatexenc (setup.py) ... \u001b[?25l\u001b[?25hdone\n",
            "  Created wheel for pylatexenc: filename=pylatexenc-2.10-py3-none-any.whl size=136835 sha256=2b637af860e6c0ea27d951be8c7b0eed4dffb01c24482d8495b70c609da70042\n",
            "  Stored in directory: /root/.cache/pip/wheels/f1/8a/f5/33ee79d4473eb201b519fa40f989b842e373237395a3421f52\n",
            "Successfully built pylatexenc\n",
            "Installing collected packages: pylatexenc\n",
            "Successfully installed pylatexenc-2.10\n"
          ]
        }
      ]
    },
    {
      "cell_type": "code",
      "source": [
        "pip install pyscf"
      ],
      "metadata": {
        "id": "WH9iodpaL5gb",
        "colab": {
          "base_uri": "https://localhost:8080/"
        },
        "outputId": "223ae403-fd56-437a-b166-8b5822105e52"
      },
      "execution_count": 4,
      "outputs": [
        {
          "output_type": "stream",
          "name": "stdout",
          "text": [
            "Looking in indexes: https://pypi.org/simple, https://us-python.pkg.dev/colab-wheels/public/simple/\n",
            "Collecting pyscf\n",
            "  Downloading pyscf-2.1.1-cp37-cp37m-manylinux_2_12_x86_64.manylinux2010_x86_64.whl (38.2 MB)\n",
            "\u001b[K     |████████████████████████████████| 38.2 MB 1.3 MB/s \n",
            "\u001b[?25hRequirement already satisfied: numpy!=1.16,!=1.17,>=1.13 in /usr/local/lib/python3.7/dist-packages (from pyscf) (1.21.6)\n",
            "Requirement already satisfied: h5py>=2.7 in /usr/local/lib/python3.7/dist-packages (from pyscf) (3.1.0)\n",
            "Requirement already satisfied: scipy!=1.5.0,!=1.5.1 in /usr/local/lib/python3.7/dist-packages (from pyscf) (1.7.3)\n",
            "Requirement already satisfied: cached-property in /usr/local/lib/python3.7/dist-packages (from h5py>=2.7->pyscf) (1.5.2)\n",
            "Installing collected packages: pyscf\n",
            "Successfully installed pyscf-2.1.1\n"
          ]
        }
      ]
    },
    {
      "cell_type": "code",
      "source": [
        "token=\"\""
      ],
      "metadata": {
        "id": "yYlnwjf8xE1k"
      },
      "execution_count": 5,
      "outputs": []
    },
    {
      "cell_type": "markdown",
      "source": [
        "##3.1- A simple example of VQE"
      ],
      "metadata": {
        "id": "DVjZqXFyMF_I"
      }
    },
    {
      "cell_type": "code",
      "source": [
        "from qiskit_nature.drivers import Molecule\n",
        "from qiskit_nature.drivers.second_quantization import ElectronicStructureMoleculeDriver, ElectronicStructureDriverType\n",
        "from qiskit_nature.problems.second_quantization import ElectronicStructureProblem\n",
        "from qiskit_nature.converters.second_quantization import QubitConverter\n",
        "from qiskit_nature.mappers.second_quantization import JordanWignerMapper\n",
        "\n",
        "mol = Molecule(geometry=[['H', [0., 0., -0.37]],\n",
        "                              ['H', [0., 0., 0.37]]],\n",
        "                     charge=0, multiplicity=1)\n",
        "\n",
        "driver = ElectronicStructureMoleculeDriver(mol, basis='sto3g', \n",
        "        driver_type=ElectronicStructureDriverType.PYSCF)\n",
        "problem = ElectronicStructureProblem(driver)\n",
        "qconverter = QubitConverter(JordanWignerMapper())\n",
        "secqop = problem.second_q_ops()\n",
        "print(secqop[0])\n",
        "qhamiltonian = qconverter.convert(secqop[0])\n",
        "print(\"Qubit Hamiltonian\")\n",
        "print(qhamiltonian)"
      ],
      "metadata": {
        "id": "NVSfaF0eylbj",
        "colab": {
          "base_uri": "https://localhost:8080/"
        },
        "outputId": "c34596ce-24b6-46d3-bb2c-7aa09ccdd707"
      },
      "execution_count": 6,
      "outputs": [
        {
          "output_type": "stream",
          "name": "stdout",
          "text": [
            "Fermionic Operator\n",
            "register length=4, number terms=36\n",
            "  -1.2533097866459775 * ( +_0 -_0 )\n",
            "+ -0.47506884877217725 * ( +_1 -_1 )\n",
            "+ -1.2533097866459775 * ( +_2 -_2 )\n",
            "+ -0.47506884877217725 * ( +_3 -_3 )\n",
            "+ -0.3373779634072241 * ( +_0 +_0 -_0 -_0 )\n",
            "+ -0.0 ...\n",
            "Qubit Hamiltonian\n",
            "-0.8121706072487122 * IIII\n",
            "+ 0.17141282644776915 * IIIZ\n",
            "- 0.22343153690813483 * IIZI\n",
            "+ 0.17141282644776915 * IZII\n",
            "- 0.22343153690813483 * ZIII\n",
            "+ 0.12062523483390415 * IIZZ\n",
            "+ 0.16868898170361205 * IZIZ\n",
            "+ 0.04530261550379923 * YYYY\n",
            "+ 0.04530261550379923 * XXYY\n",
            "+ 0.04530261550379923 * YYXX\n",
            "+ 0.04530261550379923 * XXXX\n",
            "+ 0.16592785033770338 * ZIIZ\n",
            "+ 0.16592785033770338 * IZZI\n",
            "+ 0.1744128761226159 * ZIZI\n",
            "+ 0.12062523483390415 * ZZII\n"
          ]
        },
        {
          "output_type": "stream",
          "name": "stderr",
          "text": [
            "/usr/local/lib/python3.7/dist-packages/qiskit_nature/problems/second_quantization/electronic/electronic_structure_problem.py:93: ListAuxOpsDeprecationWarning: List-based `aux_operators` are deprecated as of version 0.3.0 and support for them will be removed no sooner than 3 months after the release. Instead, use dict-based `aux_operators`. You can switch to the dict-based interface immediately, by setting `qiskit_nature.settings.dict_aux_operators` to `True`.\n",
            "  second_quantized_ops = self._grouped_property_transformed.second_q_ops()\n"
          ]
        }
      ]
    },
    {
      "cell_type": "code",
      "source": [
        "from qiskit.circuit.library import EfficientSU2\n",
        "\n",
        "ansatz = EfficientSU2(num_qubits=4, reps=1, entanglement=\"linear\", insert_barriers = True)\n",
        "ansatz.decompose().draw(\"mpl\")"
      ],
      "metadata": {
        "id": "rr5Nv0wUytyS",
        "colab": {
          "base_uri": "https://localhost:8080/",
          "height": 231
        },
        "outputId": "76c15fb4-28e5-40d0-c912-bee45a3bba6b"
      },
      "execution_count": 7,
      "outputs": [
        {
          "output_type": "execute_result",
          "data": {
            "text/plain": [
              "<Figure size 628.397x264.88 with 1 Axes>"
            ],
            "image/png": "[encoded data removed]"
          },
          "metadata": {},
          "execution_count": 7
        }
      ]
    },
    {
      "cell_type": "code",
      "source": [
        "from qiskit.algorithms import VQE\n",
        "from qiskit import Aer\n",
        "from qiskit.utils import QuantumInstance\n",
        "import numpy as np\n",
        "from qiskit.algorithms.optimizers import COBYLA\n",
        "\n",
        "seed = 1234\n",
        "np.random.seed(seed)\n",
        "\n",
        "optimizer = COBYLA()\n",
        "\n",
        "initial_point = np.random.random(ansatz.num_parameters)\n",
        "quantum_instance = QuantumInstance(backend = Aer.get_backend('aer_simulator_statevector'))\n",
        "\n",
        "vqe = VQE(\n",
        "    ansatz=ansatz,\n",
        "    optimizer=optimizer,\n",
        "    initial_point=initial_point,\n",
        "    quantum_instance=quantum_instance\n",
        ")\n",
        "\n",
        "result = vqe.compute_minimum_eigenvalue(qhamiltonian)\n",
        "\n",
        "print(result)\n"
      ],
      "metadata": {
        "id": "mnIXvKJQzgVc",
        "colab": {
          "base_uri": "https://localhost:8080/"
        },
        "outputId": "fe7e7f27-ed20-4813-b651-e1f4f3bcca53"
      },
      "execution_count": 8,
      "outputs": [
        {
          "output_type": "stream",
          "name": "stdout",
          "text": [
            "{   'aux_operator_eigenvalues': None,\n",
            "    'cost_function_evals': 888,\n",
            "    'eigenstate': array([ 1.55163279e-09+7.04522580e-10j,  1.17994431e-06+6.29389934e-07j,\n",
            "       -6.87287902e-05-1.19175176e-04j,  9.01607105e-09+1.75153048e-10j,\n",
            "        3.17070261e-06-2.71251777e-05j, -9.23514532e-01-3.66685696e-01j,\n",
            "       -6.50833666e-07-1.04178617e-06j, -6.40877389e-06-1.04499914e-05j,\n",
            "       -1.33988128e-06+3.63309921e-07j,  1.08441415e-05+7.61755332e-08j,\n",
            "        1.04578392e-01+4.15432635e-02j, -5.85921512e-06+4.47076415e-06j,\n",
            "       -1.01179799e-09+1.85616927e-09j,  5.57085679e-05+5.29593190e-05j,\n",
            "        1.47630244e-07+4.00357904e-08j,  1.51330159e-10+9.41869390e-10j]),\n",
            "    'eigenvalue': (-1.8523881417094914+0j),\n",
            "    'optimal_circuit': None,\n",
            "    'optimal_parameters': {   ParameterVectorElement(θ[7]): -0.10263498379273155,\n",
            "                              ParameterVectorElement(θ[8]): 3.1416468430294864,\n",
            "                              ParameterVectorElement(θ[9]): 2.4674114077579344e-05,\n",
            "                              ParameterVectorElement(θ[10]): 2.7179451047891577e-06,\n",
            "                              ParameterVectorElement(θ[11]): -0.0011789455587669483,\n",
            "                              ParameterVectorElement(θ[12]): 1.8446272942674344,\n",
            "                              ParameterVectorElement(θ[13]): 0.6426987629297032,\n",
            "                              ParameterVectorElement(θ[14]): -0.11387081297526412,\n",
            "                              ParameterVectorElement(θ[15]): 2.525254909939928,\n",
            "                              ParameterVectorElement(θ[4]): 1.7045601611970793,\n",
            "                              ParameterVectorElement(θ[3]): 3.1403232388683655,\n",
            "                              ParameterVectorElement(θ[1]): 9.061128731357842e-06,\n",
            "                              ParameterVectorElement(θ[2]): 3.141570826032646,\n",
            "                              ParameterVectorElement(θ[6]): -0.13154223054201972,\n",
            "                              ParameterVectorElement(θ[5]): 2.1513214842441912,\n",
            "                              ParameterVectorElement(θ[0]): -0.22553325325129397},\n",
            "    'optimal_point': array([-2.25533253e-01,  9.06112873e-06,  3.14157083e+00,  3.14032324e+00,\n",
            "        1.70456016e+00,  2.15132148e+00, -1.31542231e-01, -1.02634984e-01,\n",
            "        3.14164684e+00,  2.46741141e-05,  2.71794510e-06, -1.17894556e-03,\n",
            "        1.84462729e+00,  6.42698763e-01, -1.13870813e-01,  2.52525491e+00]),\n",
            "    'optimal_value': -1.8523881417094914,\n",
            "    'optimizer_evals': None,\n",
            "    'optimizer_result': None,\n",
            "    'optimizer_time': 2.6981303691864014}\n"
          ]
        }
      ]
    },
    {
      "cell_type": "code",
      "source": [
        "from qiskit.algorithms import NumPyMinimumEigensolver\n",
        "solver = NumPyMinimumEigensolver()\n",
        "result = solver.compute_minimum_eigenvalue(qhamiltonian)\n",
        "print(result)"
      ],
      "metadata": {
        "id": "aYzTrJo3abU2",
        "colab": {
          "base_uri": "https://localhost:8080/"
        },
        "outputId": "3e3bf95a-9856-42e0-c254-fafaf73279a2"
      },
      "execution_count": 9,
      "outputs": [
        {
          "output_type": "stream",
          "name": "stdout",
          "text": [
            "{   'aux_operator_eigenvalues': None,\n",
            "    'eigenstate': VectorStateFn(Statevector([-1.53666363e-17-4.93701060e-20j,\n",
            "             -4.57234900e-16-4.65250782e-16j,\n",
            "              1.25565337e-17-2.11612780e-17j,\n",
            "              4.73690908e-16-1.33060132e-16j,\n",
            "              1.52564317e-16-1.40021223e-16j,\n",
            "             -6.67316913e-01-7.36221442e-01j,\n",
            "             -1.62999711e-16-2.24584031e-16j,\n",
            "             -8.42710421e-17+6.43081213e-17j,\n",
            "             -7.98957973e-17-1.35250844e-17j,\n",
            "              1.90408979e-16+3.25517112e-16j,\n",
            "              7.55826341e-02+8.33870007e-02j,\n",
            "             -3.56170534e-17+9.82948865e-17j,\n",
            "             -4.51619835e-16+1.70721750e-16j,\n",
            "              1.91645940e-17-1.45775129e-16j,\n",
            "             -4.79331105e-17+5.57184037e-17j,\n",
            "             -3.62080563e-17+4.86380668e-17j],\n",
            "            dims=(2, 2, 2, 2)), coeff=1.0, is_measurement=False),\n",
            "    'eigenvalue': -1.852388173569583}\n"
          ]
        }
      ]
    },
    {
      "cell_type": "code",
      "source": [
        "from qiskit.algorithms import VQD\n",
        "solver = VQD(ansatz=ansatz,\n",
        "    optimizer=optimizer,\n",
        "    initial_point=initial_point,\n",
        "    quantum_instance=quantum_instance,\n",
        "    k = 2)\n",
        "result = solver.compute_eigenvalues(qhamiltonian)\n",
        "print(result)"
      ],
      "metadata": {
        "colab": {
          "base_uri": "https://localhost:8080/"
        },
        "id": "CZzCTTJFzHw3",
        "outputId": "d029e7fe-59fc-43b9-f54a-0f330442917b"
      },
      "execution_count": 10,
      "outputs": [
        {
          "output_type": "stream",
          "name": "stdout",
          "text": [
            "{   'aux_operator_eigenvalues': None,\n",
            "    'cost_function_evals': array([ 888, 1000]),\n",
            "    'eigenstates': ListOp([VectorStateFn(Statevector([ 1.55163279e-09+7.04522580e-10j,\n",
            "              1.17994431e-06+6.29389934e-07j,\n",
            "             -6.87287902e-05-1.19175176e-04j,\n",
            "              9.01607105e-09+1.75153048e-10j,\n",
            "              3.17070261e-06-2.71251777e-05j,\n",
            "             -9.23514532e-01-3.66685696e-01j,\n",
            "             -6.50833666e-07-1.04178617e-06j,\n",
            "             -6.40877389e-06-1.04499914e-05j,\n",
            "             -1.33988128e-06+3.63309921e-07j,\n",
            "              1.08441415e-05+7.61755332e-08j,\n",
            "              1.04578392e-01+4.15432635e-02j,\n",
            "             -5.85921512e-06+4.47076415e-06j,\n",
            "             -1.01179799e-09+1.85616927e-09j,\n",
            "              5.57085679e-05+5.29593190e-05j,\n",
            "              1.47630244e-07+4.00357904e-08j,\n",
            "              1.51330159e-10+9.41869390e-10j],\n",
            "            dims=(2, 2, 2, 2)), coeff=1.0, is_measurement=False), VectorStateFn(Statevector([-5.01605162e-02+4.38928908e-02j,\n",
            "             -7.31117975e-01-3.69461649e-02j,\n",
            "             -6.34876999e-03-5.19845422e-03j,\n",
            "              1.40573227e-02-6.22796144e-02j,\n",
            "              1.61120591e-04-1.14514098e-04j,\n",
            "              9.48296906e-04+6.27609506e-04j,\n",
            "             -1.20915141e-03-1.17645447e-03j,\n",
            "             -2.70738993e-03-5.02908196e-03j,\n",
            "             -1.16877690e-02-1.94474498e-02j,\n",
            "              5.68790483e-02-2.43642233e-01j,\n",
            "              3.55978073e-03-1.87919721e-03j,\n",
            "              2.47324944e-02+9.83040205e-03j,\n",
            "              4.71660781e-02-3.20760860e-02j,\n",
            "              6.11257379e-01+1.10843430e-01j,\n",
            "             -3.65918456e-03+6.43009379e-04j,\n",
            "             -4.10301081e-02+2.77415065e-02j],\n",
            "            dims=(2, 2, 2, 2)), coeff=1.0, is_measurement=False)], coeff=1.0, abelian=False),\n",
            "    'eigenvalues': array([-1.85238814-1.11e-16j, -1.19536442+0.00e+00j]),\n",
            "    'optimal_circuit': None,\n",
            "    'optimal_parameters': [   {   ParameterVectorElement(θ[7]): -0.10263498379273155,\n",
            "                                  ParameterVectorElement(θ[8]): 3.1416468430294864,\n",
            "                                  ParameterVectorElement(θ[9]): 2.4674114077579344e-05,\n",
            "                                  ParameterVectorElement(θ[10]): 2.7179451047891577e-06,\n",
            "                                  ParameterVectorElement(θ[11]): -0.0011789455587669483,\n",
            "                                  ParameterVectorElement(θ[12]): 1.8446272942674344,\n",
            "                                  ParameterVectorElement(θ[13]): 0.6426987629297032,\n",
            "                                  ParameterVectorElement(θ[14]): -0.11387081297526412,\n",
            "                                  ParameterVectorElement(θ[15]): 2.525254909939928,\n",
            "                                  ParameterVectorElement(θ[4]): 1.7045601611970793,\n",
            "                                  ParameterVectorElement(θ[3]): 3.1403232388683655,\n",
            "                                  ParameterVectorElement(θ[1]): 9.061128731357842e-06,\n",
            "                                  ParameterVectorElement(θ[2]): 3.141570826032646,\n",
            "                                  ParameterVectorElement(θ[6]): -0.13154223054201972,\n",
            "                                  ParameterVectorElement(θ[5]): 2.1513214842441912,\n",
            "                                  ParameterVectorElement(θ[0]): -0.22553325325129397},\n",
            "                              {   ParameterVectorElement(θ[7]): 0.8356815377445568,\n",
            "                                  ParameterVectorElement(θ[8]): 2.9599233767345554,\n",
            "                                  ParameterVectorElement(θ[9]): 0.17949655127262432,\n",
            "                                  ParameterVectorElement(θ[10]): 0.28321458156636403,\n",
            "                                  ParameterVectorElement(θ[11]): 0.40722248412384704,\n",
            "                                  ParameterVectorElement(θ[12]): 0.7748753289087557,\n",
            "                                  ParameterVectorElement(θ[13]): 1.975090164966097,\n",
            "                                  ParameterVectorElement(θ[14]): 0.4723914531063802,\n",
            "                                  ParameterVectorElement(θ[15]): 1.522408417522795,\n",
            "                                  ParameterVectorElement(θ[4]): 0.7257497160441537,\n",
            "                                  ParameterVectorElement(θ[3]): 0.45922349036672316,\n",
            "                                  ParameterVectorElement(θ[1]): -0.056812096977499754,\n",
            "                                  ParameterVectorElement(θ[2]): 1.3164103371279756,\n",
            "                                  ParameterVectorElement(θ[6]): 1.260143593966736,\n",
            "                                  ParameterVectorElement(θ[5]): 0.09545466066722938,\n",
            "                                  ParameterVectorElement(θ[0]): 0.012174657752649348}],\n",
            "    'optimal_point': array([[-2.25533253e-01,  9.06112873e-06,  3.14157083e+00,\n",
            "         3.14032324e+00,  1.70456016e+00,  2.15132148e+00,\n",
            "        -1.31542231e-01, -1.02634984e-01,  3.14164684e+00,\n",
            "         2.46741141e-05,  2.71794510e-06, -1.17894556e-03,\n",
            "         1.84462729e+00,  6.42698763e-01, -1.13870813e-01,\n",
            "         2.52525491e+00],\n",
            "       [ 1.21746578e-02, -5.68120970e-02,  1.31641034e+00,\n",
            "         4.59223490e-01,  7.25749716e-01,  9.54546607e-02,\n",
            "         1.26014359e+00,  8.35681538e-01,  2.95992338e+00,\n",
            "         1.79496551e-01,  2.83214582e-01,  4.07222484e-01,\n",
            "         7.74875329e-01,  1.97509016e+00,  4.72391453e-01,\n",
            "         1.52240842e+00]]),\n",
            "    'optimal_value': array([-1.85238814, -1.1952203 ]),\n",
            "    'optimizer_evals': None,\n",
            "    'optimizer_result': None,\n",
            "    'optimizer_time': array([ 5.33542347, 55.5126884 ])}\n"
          ]
        }
      ]
    },
    {
      "cell_type": "code",
      "source": [
        "from qiskit_nature.algorithms import GroundStateEigensolver\n",
        "\n",
        "solver = GroundStateEigensolver(qconverter, vqe)\n",
        "result = solver.solve(problem)\n",
        "print(result)"
      ],
      "metadata": {
        "id": "wEQmj06bzvBD",
        "colab": {
          "base_uri": "https://localhost:8080/"
        },
        "outputId": "a8dcdfb3-f19c-4eb6-a867-90c47510f3c7"
      },
      "execution_count": 11,
      "outputs": [
        {
          "output_type": "stream",
          "name": "stdout",
          "text": [
            "=== GROUND STATE ENERGY ===\n",
            " \n",
            "* Electronic ground state energy (Hartree): -1.852388141709\n",
            "  - computed part:      -1.852388141709\n",
            "~ Nuclear repulsion energy (Hartree): 0.715104339081\n",
            "> Total ground state energy (Hartree): -1.137283802628\n",
            " \n",
            "=== MEASURED OBSERVABLES ===\n",
            " \n",
            "  0:  # Particles: 2.000 S: 0.000 S^2: 0.000 M: 0.000\n",
            " \n",
            "=== DIPOLE MOMENTS ===\n",
            " \n",
            "~ Nuclear dipole moment (a.u.): [0.0  0.0  0.0]\n",
            " \n",
            "  0: \n",
            "  * Electronic dipole moment (a.u.): [0.0  0.0  0.00001495]\n",
            "    - computed part:      [0.0  0.0  0.00001495]\n",
            "  > Dipole moment (a.u.): [0.0  0.0  -0.00001495]  Total: 0.00001495\n",
            "                 (debye): [0.0  0.0  -0.000038]  Total: 0.000038\n",
            " \n"
          ]
        }
      ]
    },
    {
      "cell_type": "code",
      "source": [
        "print(result.total_energies)"
      ],
      "metadata": {
        "id": "xUY7cptRa6T-",
        "colab": {
          "base_uri": "https://localhost:8080/"
        },
        "outputId": "2de25c6e-fa28-488d-accc-ba804df68d2a"
      },
      "execution_count": 12,
      "outputs": [
        {
          "output_type": "stream",
          "name": "stdout",
          "text": [
            "[-1.1372838]\n"
          ]
        }
      ]
    },
    {
      "cell_type": "markdown",
      "source": [
        "##3.2- A more complicated ansatz"
      ],
      "metadata": {
        "id": "OvPuOsOqRC7S"
      }
    },
    {
      "cell_type": "code",
      "source": [
        "from qiskit_nature.algorithms import VQEUCCFactory\n",
        "\n",
        "vqeuccf = VQEUCCFactory(quantum_instance = quantum_instance)\n",
        "vqeuccf.get_solver(problem, qconverter).ansatz.decompose().draw(filename=\"ucc.png\",output=\"mpl\")"
      ],
      "metadata": {
        "id": "gTNANztX0TgV",
        "colab": {
          "base_uri": "https://localhost:8080/",
          "height": 231
        },
        "outputId": "9baa1d3e-3711-44a9-af65-3a97c6c2709b"
      },
      "execution_count": 13,
      "outputs": [
        {
          "output_type": "execute_result",
          "data": {
            "text/plain": [
              "<Figure size 1350.8x264.88 with 1 Axes>"
            ],
            "image/png": "[encoded data removed]"
          },
          "metadata": {},
          "execution_count": 13
        }
      ]
    },
    {
      "cell_type": "code",
      "source": [
        "solver = GroundStateEigensolver(qconverter, vqeuccf)\n",
        "result = solver.solve(problem)\n",
        "print(result)"
      ],
      "metadata": {
        "id": "4QjlovOXRVX7",
        "colab": {
          "base_uri": "https://localhost:8080/"
        },
        "outputId": "c69d6b03-f915-4a0e-fb3e-3ef9e7cec528"
      },
      "execution_count": 14,
      "outputs": [
        {
          "output_type": "stream",
          "name": "stdout",
          "text": [
            "=== GROUND STATE ENERGY ===\n",
            " \n",
            "* Electronic ground state energy (Hartree): -1.852388173513\n",
            "  - computed part:      -1.852388173513\n",
            "~ Nuclear repulsion energy (Hartree): 0.715104339081\n",
            "> Total ground state energy (Hartree): -1.137283834432\n",
            " \n",
            "=== MEASURED OBSERVABLES ===\n",
            " \n",
            "  0:  # Particles: 2.000 S: 0.000 S^2: 0.000 M: 0.000\n",
            " \n",
            "=== DIPOLE MOMENTS ===\n",
            " \n",
            "~ Nuclear dipole moment (a.u.): [0.0  0.0  0.0]\n",
            " \n",
            "  0: \n",
            "  * Electronic dipole moment (a.u.): [0.0  0.0  -0.00000013]\n",
            "    - computed part:      [0.0  0.0  -0.00000013]\n",
            "  > Dipole moment (a.u.): [0.0  0.0  0.00000013]  Total: 0.00000013\n",
            "                 (debye): [0.0  0.0  0.00000033]  Total: 0.00000033\n",
            " \n"
          ]
        }
      ]
    },
    {
      "cell_type": "markdown",
      "source": [
        "##3.3- Noisy simulation"
      ],
      "metadata": {
        "id": "cOj2mnxA2sO0"
      }
    },
    {
      "cell_type": "code",
      "source": [
        "from qiskit.providers.aer import AerSimulator\n",
        "from qiskit import IBMQ\n",
        "\n",
        "IBMQ.save_account(token)\n",
        "provider = IBMQ.load_account()\n",
        "backend = provider.get_backend('ibmq_manila')\n",
        "quantum_instance = QuantumInstance(backend = AerSimulator.from_backend(backend),\n",
        "                                   seed_simulator=seed, seed_transpiler = seed)\n",
        "\n",
        "vqe = VQE(\n",
        "    ansatz=ansatz,\n",
        "    optimizer=optimizer,\n",
        "    initial_point=initial_point,\n",
        "    quantum_instance=quantum_instance\n",
        "    #shots=1024\n",
        ")\n",
        "\n",
        "solver = GroundStateEigensolver(qconverter, vqe)\n",
        "result = solver.solve(problem)\n",
        "print(result)"
      ],
      "metadata": {
        "id": "Q7p14spz2yzP",
        "colab": {
          "base_uri": "https://localhost:8080/"
        },
        "outputId": "6dd679b7-f3a6-48af-8050-daf2eecb2332"
      },
      "execution_count": 15,
      "outputs": [
        {
          "output_type": "stream",
          "name": "stdout",
          "text": [
            "=== GROUND STATE ENERGY ===\n",
            " \n",
            "* Electronic ground state energy (Hartree): -1.747311899973\n",
            "  - computed part:      -1.747311899973\n",
            "~ Nuclear repulsion energy (Hartree): 0.715104339081\n",
            "> Total ground state energy (Hartree): -1.032207560892\n",
            " \n",
            "=== MEASURED OBSERVABLES ===\n",
            " \n",
            "  0:  # Particles: 1.974 S: 0.114 S^2: 0.127 M: 0.004\n",
            " \n",
            "=== DIPOLE MOMENTS ===\n",
            " \n",
            "~ Nuclear dipole moment (a.u.): [0.0  0.0  0.0]\n",
            " \n",
            "  0: \n",
            "  * Electronic dipole moment (a.u.): [0.0  0.0  -0.01453994]\n",
            "    - computed part:      [0.0  0.0  -0.01453994]\n",
            "  > Dipole moment (a.u.): [0.0  0.0  0.01453994]  Total: 0.01453994\n",
            "                 (debye): [0.0  0.0  0.03695684]  Total: 0.03695684\n",
            " \n"
          ]
        }
      ]
    },
    {
      "cell_type": "code",
      "source": [
        "from qiskit.utils.mitigation import CompleteMeasFitter\n",
        "\n",
        "quantum_instance = QuantumInstance(backend = AerSimulator.from_backend(backend),\n",
        "                                   measurement_error_mitigation_cls=CompleteMeasFitter,\n",
        "                                   seed_simulator=seed, seed_transpiler = seed)\n",
        "\n",
        "\n",
        "vqe = VQE(\n",
        "    ansatz=ansatz,\n",
        "    optimizer=optimizer,\n",
        "    initial_point=initial_point,\n",
        "    quantum_instance=quantum_instance\n",
        ")\n",
        "\n",
        "solver = GroundStateEigensolver(qconverter, vqe)\n",
        "result = solver.solve(problem)\n",
        "print(result)"
      ],
      "metadata": {
        "id": "EHraAy6J3FJ9",
        "colab": {
          "base_uri": "https://localhost:8080/"
        },
        "outputId": "d40f295a-ef9d-47b4-c3fe-a227d38e1da4"
      },
      "execution_count": 16,
      "outputs": [
        {
          "output_type": "stream",
          "name": "stdout",
          "text": [
            "=== GROUND STATE ENERGY ===\n",
            " \n",
            "* Electronic ground state energy (Hartree): -1.793658885562\n",
            "  - computed part:      -1.793658885562\n",
            "~ Nuclear repulsion energy (Hartree): 0.715104339081\n",
            "> Total ground state energy (Hartree): -1.078554546481\n",
            " \n",
            "=== MEASURED OBSERVABLES ===\n",
            " \n",
            "  0:  # Particles: 1.981 S: 0.059 S^2: 0.063 M: -0.007\n",
            " \n",
            "=== DIPOLE MOMENTS ===\n",
            " \n",
            "~ Nuclear dipole moment (a.u.): [0.0  0.0  0.0]\n",
            " \n",
            "  0: \n",
            "  * Electronic dipole moment (a.u.): [0.0  0.0  -0.09723587]\n",
            "    - computed part:      [0.0  0.0  -0.09723587]\n",
            "  > Dipole moment (a.u.): [0.0  0.0  0.09723587]  Total: 0.09723587\n",
            "                 (debye): [0.0  0.0  0.2471489]  Total: 0.2471489\n",
            " \n"
          ]
        }
      ]
    },
    {
      "cell_type": "code",
      "source": [
        "from qiskit_nature.runtime import VQEClient\n",
        "#backend = provider.get_backend('ibm_nairobi')\n",
        "backend = provider.get_backend('ibmq_qasm_simulator')\n",
        "\n",
        "vqe = VQEClient(\n",
        "    ansatz=ansatz,\n",
        "    #optimizer=optimizer, DEFAULT -> SPSA\n",
        "    provider=provider,\n",
        "    backend=backend,\n",
        "    #shots=1024,\n",
        "    initial_point = initial_point,\n",
        "    measurement_error_mitigation=False\n",
        ")  \n",
        "\n",
        "\n",
        "solver = GroundStateEigensolver(qconverter, vqe)\n",
        "result = solver.solve(problem)\n",
        "print(result)"
      ],
      "metadata": {
        "id": "apySyKZm79BA",
        "colab": {
          "base_uri": "https://localhost:8080/"
        },
        "outputId": "083594ed-dc66-4b3e-bf2b-e495a5ffb5cc"
      },
      "execution_count": 17,
      "outputs": [
        {
          "output_type": "stream",
          "name": "stdout",
          "text": [
            "=== GROUND STATE ENERGY ===\n",
            " \n",
            "* Electronic ground state energy (Hartree): -1.857765239885\n",
            "  - computed part:      -1.857765239885\n",
            "~ Nuclear repulsion energy (Hartree): 0.715104339081\n",
            "> Total ground state energy (Hartree): -1.142660900804\n",
            " \n",
            "=== MEASURED OBSERVABLES ===\n",
            " \n",
            "  0:  # Particles: 2.002 S: 0.007 S^2: 0.007 M: 0.000\n",
            " \n",
            "=== DIPOLE MOMENTS ===\n",
            " \n",
            "~ Nuclear dipole moment (a.u.): [0.0  0.0  0.0]\n",
            " \n",
            "  0: \n",
            "  * Electronic dipole moment (a.u.): [0.0  0.0  -0.00545248]\n",
            "    - computed part:      [0.0  0.0  -0.00545248]\n",
            "  > Dipole moment (a.u.): [0.0  0.0  0.00545248]  Total: 0.00545248\n",
            "                 (debye): [0.0  0.0  0.01385882]  Total: 0.01385882\n",
            " \n"
          ]
        }
      ]
    },
    {
      "cell_type": "code",
      "source": [
        "vqe = VQEClient(\n",
        "    ansatz=ansatz,\n",
        "    #optimizer=optimizer, DEFAULT -> SPSA\n",
        "    provider=provider,\n",
        "    backend=backend,\n",
        "    #shots=1024,\n",
        "    initial_point = initial_point,\n",
        "    measurement_error_mitigation=True\n",
        ")  # use a complete measurement fitter for error mitigation\n",
        "\n",
        "\n",
        "solver = GroundStateEigensolver(qconverter, vqe)\n",
        "result = solver.solve(problem)\n",
        "print(result)"
      ],
      "metadata": {
        "id": "3n8T_ZDl179m",
        "colab": {
          "base_uri": "https://localhost:8080/"
        },
        "outputId": "ede2dc3f-1377-45e0-8b2b-3cc37d3b7c6c"
      },
      "execution_count": 18,
      "outputs": [
        {
          "output_type": "stream",
          "name": "stdout",
          "text": [
            "=== GROUND STATE ENERGY ===\n",
            " \n",
            "* Electronic ground state energy (Hartree): -1.830672022876\n",
            "  - computed part:      -1.830672022876\n",
            "~ Nuclear repulsion energy (Hartree): 0.715104339081\n",
            "> Total ground state energy (Hartree): -1.115567683795\n",
            " \n",
            "=== MEASURED OBSERVABLES ===\n",
            " \n",
            "  0:  # Particles: 2.001 S: -0.004 S^2: -0.004 M: 0.000\n",
            " \n",
            "=== DIPOLE MOMENTS ===\n",
            " \n",
            "~ Nuclear dipole moment (a.u.): [0.0  0.0  0.0]\n",
            " \n",
            "  0: \n",
            "  * Electronic dipole moment (a.u.): [0.0  0.0  -0.04543732]\n",
            "    - computed part:      [0.0  0.0  -0.04543732]\n",
            "  > Dipole moment (a.u.): [0.0  0.0  0.04543732]  Total: 0.04543732\n",
            "                 (debye): [0.0  0.0  0.11549014]  Total: 0.11549014\n",
            " \n"
          ]
        }
      ]
    }
  ]
}