{
  "nbformat": 4,
  "nbformat_minor": 0,
  "metadata": {
    "colab": {
      "provenance": []
    },
    "kernelspec": {
      "name": "python3",
      "display_name": "Python 3"
    },
    "language_info": {
      "name": "python"
    }
  },
  "cells": [
    {
      "cell_type": "markdown",
      "source": [
        "#0.- HAMILTONIANS\n",
        "\n",
        "### Setup"
      ],
      "metadata": {
        "id": "vh5qNW1XFcqO"
      }
    },
    {
      "cell_type": "code",
      "execution_count": null,
      "metadata": {
        "id": "cq2SCZeWFbKF"
      },
      "outputs": [],
      "source": [
        "pip install qiskit"
      ]
    },
    {
      "cell_type": "markdown",
      "source": [
        "##0.1- Statevectors"
      ],
      "metadata": {
        "id": "QG2m_FT3GgQ6"
      }
    },
    {
      "cell_type": "code",
      "source": [
        "from qiskit.quantum_info import Statevector\n",
        "zero = Statevector([1,0])\n",
        "print(\"zero is\", zero)"
      ],
      "metadata": {
        "id": "GvoF1FgEFl3_"
      },
      "execution_count": null,
      "outputs": []
    },
    {
      "cell_type": "code",
      "source": [
        "one = Statevector([0,1])\n",
        "print(\"one is\",one)"
      ],
      "metadata": {
        "id": "1uKKAuf2FxZX"
      },
      "execution_count": null,
      "outputs": []
    },
    {
      "cell_type": "code",
      "source": [
        "zero = Statevector.from_int(0, dims = 2)\n",
        "one = Statevector.from_int(1, dims = 2)\n",
        "print(\"zero is\",zero)\n",
        "print(\"one is\",one)"
      ],
      "metadata": {
        "id": "h6GDC6mzF1RD"
      },
      "execution_count": null,
      "outputs": []
    },
    {
      "cell_type": "code",
      "source": [
        "psi = one.tensor(zero.tensor(zero))\n",
        "print(\"psi is\",psi)"
      ],
      "metadata": {
        "id": "sbAtXwKrF5Wy"
      },
      "execution_count": null,
      "outputs": []
    },
    {
      "cell_type": "code",
      "source": [
        "psi = one^zero^zero\n",
        "psi.draw(\"latex\")"
      ],
      "metadata": {
        "id": "nYZQFxuWF-C5"
      },
      "execution_count": null,
      "outputs": []
    },
    {
      "cell_type": "code",
      "source": [
        "psi = Statevector.from_int(4, dims = 8)\n",
        "print(psi)\n",
        "psi.draw(\"latex\")"
      ],
      "metadata": {
        "id": "x1kG7llVGGI_"
      },
      "execution_count": null,
      "outputs": []
    },
    {
      "cell_type": "code",
      "source": [
        "from numpy import sqrt\n",
        "ghz = 1/sqrt(2)*(zero^zero^zero) + 1/sqrt(2)*(one^one^one)\n",
        "ghz.draw(\"latex\")"
      ],
      "metadata": {
        "id": "Xt4vnSoIGJ_I"
      },
      "execution_count": null,
      "outputs": []
    },
    {
      "cell_type": "markdown",
      "source": [
        "##0.2- Hamiltonians"
      ],
      "metadata": {
        "id": "Zvmgs6GrGnQT"
      }
    },
    {
      "cell_type": "code",
      "source": [
        "from qiskit.quantum_info import Pauli\n",
        "Z0Z1 = Pauli(\"ZZI\")\n",
        "print(\"Z0Z1 is\",Z0Z1)\n",
        "print(\"And its matrix is\")\n",
        "print(Z0Z1.to_matrix())"
      ],
      "metadata": {
        "id": "biZDbIE_GYoX"
      },
      "execution_count": null,
      "outputs": []
    },
    {
      "cell_type": "code",
      "source": [
        "print(\"The sparse representation of Z0Z1 is\")\n",
        "print(Z0Z1.to_matrix(sparse=True))"
      ],
      "metadata": {
        "id": "lZzT7H3WGqmx"
      },
      "execution_count": null,
      "outputs": []
    },
    {
      "cell_type": "code",
      "source": [
        "Z0Z1 = Pauli(([0,1,1],[0,0,0]))\n",
        "print(Z0Z1.to_matrix(sparse=True))"
      ],
      "metadata": {
        "id": "YCmGdR7cG-wk"
      },
      "execution_count": null,
      "outputs": []
    },
    {
      "cell_type": "code",
      "source": [
        "from qiskit.opflow.primitive_ops import PauliOp\n",
        "H_cut = PauliOp(Pauli(\"ZZI\")) + PauliOp(Pauli(\"ZIZ\"))\n",
        "print(\"H_cut is\")\n",
        "print(H_cut)\n",
        "print(\"The sparse representation of H_cut is\")\n",
        "print(H_cut.to_spmatrix())"
      ],
      "metadata": {
        "id": "JZsGLF0lIQQr"
      },
      "execution_count": null,
      "outputs": []
    },
    {
      "cell_type": "code",
      "source": [
        "from qiskit.opflow import I, Z\n",
        "H_cut = (Z^Z^I) + (Z^I^Z)\n",
        "print(\"H_cut is\")\n",
        "print(H_cut)"
      ],
      "metadata": {
        "id": "zMMEIKWNIT9R"
      },
      "execution_count": null,
      "outputs": []
    },
    {
      "cell_type": "code",
      "source": [
        "H_ising = -0.5*(Z^Z^I) + 2*(Z^I^Z) -(I^Z^Z) + (I^Z^I) -5*(I^I^Z)\n",
        "print(H_ising)"
      ],
      "metadata": {
        "id": "ywsiH4UIItUj"
      },
      "execution_count": null,
      "outputs": []
    },
    {
      "cell_type": "markdown",
      "source": [
        "##0.3- Expectation values"
      ],
      "metadata": {
        "id": "N0l09joRI1qB"
      }
    },
    {
      "cell_type": "code",
      "source": [
        "print(\"The expectation value is\", psi.expectation_value(H_cut))\n"
      ],
      "metadata": {
        "id": "NRMwPowaIyrE"
      },
      "execution_count": null,
      "outputs": []
    },
    {
      "cell_type": "code",
      "source": [
        "for x in range(8): # We consider x=0,1...7\n",
        "    psi = psi = Statevector.from_int(x, dims = 8)\n",
        "    print(\"The expectation value of |\",x,\">\", \"is\", \n",
        "        psi.expectation_value(H_cut))"
      ],
      "metadata": {
        "id": "GJXfu1ffJBq2"
      },
      "execution_count": null,
      "outputs": []
    }
  ]
}