{
  "nbformat": 4,
  "nbformat_minor": 0,
  "metadata": {
    "colab": {
      "provenance": [],
      "collapsed_sections": []
    },
    "kernelspec": {
      "name": "python3",
      "display_name": "Python 3"
    },
    "language_info": {
      "name": "python"
    }
  },
  "cells": [
    {
      "cell_type": "markdown",
      "source": [
        "#3.-VQE\n",
        "\n",
        "### Setup"
      ],
      "metadata": {
        "id": "Jy8zoPFVL7v1"
      }
    },
    {
      "cell_type": "code",
      "execution_count": null,
      "metadata": {
        "id": "Wh0ADYK2yfvP"
      },
      "outputs": [],
      "source": [
        "pip install qiskit"
      ]
    },
    {
      "cell_type": "code",
      "source": [
        "pip install qiskit-nature"
      ],
      "metadata": {
        "id": "kJLLCRr_L2RD"
      },
      "execution_count": null,
      "outputs": []
    },
    {
      "cell_type": "code",
      "source": [
        "pip install pylatexenc"
      ],
      "metadata": {
        "id": "XH1RDgjgM6eN"
      },
      "execution_count": null,
      "outputs": []
    },
    {
      "cell_type": "code",
      "source": [
        "pip install pyscf"
      ],
      "metadata": {
        "id": "WH9iodpaL5gb"
      },
      "execution_count": null,
      "outputs": []
    },
    {
      "cell_type": "code",
      "source": [
        "token=\"\""
      ],
      "metadata": {
        "id": "yYlnwjf8xE1k"
      },
      "execution_count": null,
      "outputs": []
    },
    {
      "cell_type": "markdown",
      "source": [
        "##3.1- A simple example of VQE"
      ],
      "metadata": {
        "id": "DVjZqXFyMF_I"
      }
    },
    {
      "cell_type": "code",
      "source": [
        "from qiskit_nature.drivers import Molecule\n",
        "from qiskit_nature.drivers.second_quantization import ElectronicStructureMoleculeDriver, ElectronicStructureDriverType\n",
        "from qiskit_nature.problems.second_quantization import ElectronicStructureProblem\n",
        "from qiskit_nature.converters.second_quantization import QubitConverter\n",
        "from qiskit_nature.mappers.second_quantization import JordanWignerMapper\n",
        "\n",
        "mol = Molecule(geometry=[['H', [0., 0., -0.37]],\n",
        "                              ['H', [0., 0., 0.37]]],\n",
        "                     charge=0, multiplicity=1)\n",
        "\n",
        "driver = ElectronicStructureMoleculeDriver(mol, basis='sto3g', \n",
        "        driver_type=ElectronicStructureDriverType.PYSCF)\n",
        "problem = ElectronicStructureProblem(driver)\n",
        "qconverter = QubitConverter(JordanWignerMapper())\n",
        "secqop = problem.second_q_ops()\n",
        "print(secqop[0])\n",
        "qhamiltonian = qconverter.convert(secqop[0])\n",
        "print(\"Qubit Hamiltonian\")\n",
        "print(qhamiltonian)"
      ],
      "metadata": {
        "id": "NVSfaF0eylbj"
      },
      "execution_count": null,
      "outputs": []
    },
    {
      "cell_type": "code",
      "source": [
        "from qiskit.circuit.library import EfficientSU2\n",
        "\n",
        "ansatz = EfficientSU2(num_qubits=4, reps=1, entanglement=\"linear\", insert_barriers = True)\n",
        "ansatz.decompose().draw(\"mpl\")"
      ],
      "metadata": {
        "id": "rr5Nv0wUytyS"
      },
      "execution_count": null,
      "outputs": []
    },
    {
      "cell_type": "code",
      "source": [
        "from qiskit.algorithms import VQE\n",
        "from qiskit import Aer\n",
        "from qiskit.utils import QuantumInstance\n",
        "import numpy as np\n",
        "from qiskit.algorithms.optimizers import COBYLA\n",
        "\n",
        "seed = 1234\n",
        "np.random.seed(seed)\n",
        "\n",
        "optimizer = COBYLA()\n",
        "\n",
        "initial_point = np.random.random(ansatz.num_parameters)\n",
        "quantum_instance = QuantumInstance(backend = Aer.get_backend('aer_simulator_statevector'))\n",
        "\n",
        "vqe = VQE(\n",
        "    ansatz=ansatz,\n",
        "    optimizer=optimizer,\n",
        "    initial_point=initial_point,\n",
        "    quantum_instance=quantum_instance\n",
        ")\n",
        "\n",
        "result = vqe.compute_minimum_eigenvalue(qhamiltonian)\n",
        "\n",
        "print(result)\n"
      ],
      "metadata": {
        "id": "mnIXvKJQzgVc"
      },
      "execution_count": null,
      "outputs": []
    },
    {
      "cell_type": "code",
      "source": [
        "from qiskit.algorithms import NumPyMinimumEigensolver\n",
        "solver = NumPyMinimumEigensolver()\n",
        "result = solver.compute_minimum_eigenvalue(qhamiltonian)\n",
        "print(result)"
      ],
      "metadata": {
        "id": "aYzTrJo3abU2"
      },
      "execution_count": null,
      "outputs": []
    },
    {
      "cell_type": "code",
      "source": [
        "from qiskit.algorithms import VQD\n",
        "solver = VQD(ansatz=ansatz,\n",
        "    optimizer=optimizer,\n",
        "    initial_point=initial_point,\n",
        "    quantum_instance=quantum_instance,\n",
        "    k = 2)\n",
        "result = solver.compute_eigenvalues(qhamiltonian)\n",
        "print(result)"
      ],
      "metadata": {
        "id": "CZzCTTJFzHw3"
      },
      "execution_count": null,
      "outputs": []
    },
    {
      "cell_type": "code",
      "source": [
        "from qiskit_nature.algorithms import GroundStateEigensolver\n",
        "\n",
        "solver = GroundStateEigensolver(qconverter, vqe)\n",
        "result = solver.solve(problem)\n",
        "print(result)"
      ],
      "metadata": {
        "id": "wEQmj06bzvBD"
      },
      "execution_count": null,
      "outputs": []
    },
    {
      "cell_type": "code",
      "source": [
        "print(result.total_energies)"
      ],
      "metadata": {
        "id": "xUY7cptRa6T-"
      },
      "execution_count": null,
      "outputs": []
    },
    {
      "cell_type": "markdown",
      "source": [
        "##3.2- A more complicated ansatz"
      ],
      "metadata": {
        "id": "OvPuOsOqRC7S"
      }
    },
    {
      "cell_type": "code",
      "source": [
        "from qiskit_nature.algorithms import VQEUCCFactory\n",
        "\n",
        "vqeuccf = VQEUCCFactory(quantum_instance = quantum_instance)\n",
        "vqeuccf.get_solver(problem, qconverter).ansatz.decompose().draw(filename=\"ucc.png\",output=\"mpl\")"
      ],
      "metadata": {
        "id": "gTNANztX0TgV"
      },
      "execution_count": null,
      "outputs": []
    },
    {
      "cell_type": "code",
      "source": [
        "solver = GroundStateEigensolver(qconverter, vqeuccf)\n",
        "result = solver.solve(problem)\n",
        "print(result)"
      ],
      "metadata": {
        "id": "4QjlovOXRVX7"
      },
      "execution_count": null,
      "outputs": []
    },
    {
      "cell_type": "markdown",
      "source": [
        "##3.3- Noisy simulation"
      ],
      "metadata": {
        "id": "cOj2mnxA2sO0"
      }
    },
    {
      "cell_type": "code",
      "source": [
        "from qiskit.providers.aer import AerSimulator\n",
        "from qiskit import IBMQ\n",
        "\n",
        "IBMQ.save_account(token)\n",
        "provider = IBMQ.load_account()\n",
        "backend = provider.get_backend('ibmq_manila')\n",
        "quantum_instance = QuantumInstance(backend = AerSimulator.from_backend(backend),\n",
        "                                   seed_simulator=seed, seed_transpiler = seed)\n",
        "\n",
        "vqe = VQE(\n",
        "    ansatz=ansatz,\n",
        "    optimizer=optimizer,\n",
        "    initial_point=initial_point,\n",
        "    quantum_instance=quantum_instance\n",
        "    #shots=1024\n",
        ")\n",
        "\n",
        "solver = GroundStateEigensolver(qconverter, vqe)\n",
        "result = solver.solve(problem)\n",
        "print(result)"
      ],
      "metadata": {
        "id": "Q7p14spz2yzP"
      },
      "execution_count": null,
      "outputs": []
    },
    {
      "cell_type": "code",
      "source": [
        "from qiskit.utils.mitigation import CompleteMeasFitter\n",
        "\n",
        "quantum_instance = QuantumInstance(backend = AerSimulator.from_backend(backend),\n",
        "                                   measurement_error_mitigation_cls=CompleteMeasFitter,\n",
        "                                   seed_simulator=seed, seed_transpiler = seed)\n",
        "\n",
        "\n",
        "vqe = VQE(\n",
        "    ansatz=ansatz,\n",
        "    optimizer=optimizer,\n",
        "    initial_point=initial_point,\n",
        "    quantum_instance=quantum_instance\n",
        ")\n",
        "\n",
        "solver = GroundStateEigensolver(qconverter, vqe)\n",
        "result = solver.solve(problem)\n",
        "print(result)"
      ],
      "metadata": {
        "id": "EHraAy6J3FJ9"
      },
      "execution_count": null,
      "outputs": []
    },
    {
      "cell_type": "code",
      "source": [
        "from qiskit_nature.runtime import VQEClient\n",
        "#backend = provider.get_backend('ibm_nairobi')\n",
        "backend = provider.get_backend('ibmq_qasm_simulator')\n",
        "\n",
        "vqe = VQEClient(\n",
        "    ansatz=ansatz,\n",
        "    #optimizer=optimizer, DEFAULT -> SPSA\n",
        "    provider=provider,\n",
        "    backend=backend,\n",
        "    #shots=1024,\n",
        "    initial_point = initial_point,\n",
        "    measurement_error_mitigation=False\n",
        ")  \n",
        "\n",
        "\n",
        "solver = GroundStateEigensolver(qconverter, vqe)\n",
        "result = solver.solve(problem)\n",
        "print(result)"
      ],
      "metadata": {
        "id": "apySyKZm79BA"
      },
      "execution_count": null,
      "outputs": []
    },
    {
      "cell_type": "code",
      "source": [
        "vqe = VQEClient(\n",
        "    ansatz=ansatz,\n",
        "    #optimizer=optimizer, DEFAULT -> SPSA\n",
        "    provider=provider,\n",
        "    backend=backend,\n",
        "    #shots=1024,\n",
        "    initial_point = initial_point,\n",
        "    measurement_error_mitigation=True\n",
        ")  # use a complete measurement fitter for error mitigation\n",
        "\n",
        "\n",
        "solver = GroundStateEigensolver(qconverter, vqe)\n",
        "result = solver.solve(problem)\n",
        "print(result)"
      ],
      "metadata": {
        "id": "3n8T_ZDl179m"
      },
      "execution_count": null,
      "outputs": []
    }
  ]
}