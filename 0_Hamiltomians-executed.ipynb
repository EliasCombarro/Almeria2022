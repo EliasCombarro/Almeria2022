{
  "nbformat": 4,
  "nbformat_minor": 0,
  "metadata": {
    "colab": {
      "provenance": []
    },
    "kernelspec": {
      "name": "python3",
      "display_name": "Python 3"
    },
    "language_info": {
      "name": "python"
    }
  },
  "cells": [
    {
      "cell_type": "markdown",
      "source": [
        "#0.- HAMILTONIANS\n",
        "\n",
        "### Setup"
      ],
      "metadata": {
        "id": "vh5qNW1XFcqO"
      }
    },
    {
      "cell_type": "code",
      "execution_count": 1,
      "metadata": {
        "id": "cq2SCZeWFbKF",
        "colab": {
          "base_uri": "https://localhost:8080/"
        },
        "outputId": "b1a711c0-2f79-4f2d-e705-7be21a7ddea4"
      },
      "outputs": [
        {
          "output_type": "stream",
          "name": "stdout",
          "text": [
            "Looking in indexes: https://pypi.org/simple, https://us-python.pkg.dev/colab-wheels/public/simple/\n",
            "Collecting qiskit\n",
            "  Downloading qiskit-0.39.0.tar.gz (13 kB)\n",
            "Collecting qiskit-terra==0.22.0\n",
            "  Downloading qiskit_terra-0.22.0-cp37-cp37m-manylinux_2_17_x86_64.manylinux2014_x86_64.whl (4.7 MB)\n",
            "\u001b[K     |████████████████████████████████| 4.7 MB 4.3 MB/s \n",
            "\u001b[?25hCollecting qiskit-aer==0.11.0\n",
            "  Downloading qiskit_aer-0.11.0-cp37-cp37m-manylinux_2_17_x86_64.manylinux2014_x86_64.whl (19.2 MB)\n",
            "\u001b[K     |████████████████████████████████| 19.2 MB 1.2 MB/s \n",
            "\u001b[?25hCollecting qiskit-ibmq-provider==0.19.2\n",
            "  Downloading qiskit_ibmq_provider-0.19.2-py3-none-any.whl (240 kB)\n",
            "\u001b[K     |████████████████████████████████| 240 kB 58.8 MB/s \n",
            "\u001b[?25hRequirement already satisfied: numpy>=1.16.3 in /usr/local/lib/python3.7/dist-packages (from qiskit-aer==0.11.0->qiskit) (1.21.6)\n",
            "Requirement already satisfied: scipy>=1.0 in /usr/local/lib/python3.7/dist-packages (from qiskit-aer==0.11.0->qiskit) (1.7.3)\n",
            "Collecting websockets>=10.0\n",
            "  Downloading websockets-10.3-cp37-cp37m-manylinux_2_5_x86_64.manylinux1_x86_64.manylinux_2_12_x86_64.manylinux2010_x86_64.whl (112 kB)\n",
            "\u001b[K     |████████████████████████████████| 112 kB 49.6 MB/s \n",
            "\u001b[?25hCollecting websocket-client>=1.0.1\n",
            "  Downloading websocket_client-1.4.1-py3-none-any.whl (55 kB)\n",
            "\u001b[K     |████████████████████████████████| 55 kB 3.5 MB/s \n",
            "\u001b[?25hCollecting requests-ntlm>=1.1.0\n",
            "  Downloading requests_ntlm-1.1.0-py2.py3-none-any.whl (5.7 kB)\n",
            "Requirement already satisfied: requests>=2.19 in /usr/local/lib/python3.7/dist-packages (from qiskit-ibmq-provider==0.19.2->qiskit) (2.23.0)\n",
            "Requirement already satisfied: urllib3>=1.21.1 in /usr/local/lib/python3.7/dist-packages (from qiskit-ibmq-provider==0.19.2->qiskit) (1.24.3)\n",
            "Requirement already satisfied: python-dateutil>=2.8.0 in /usr/local/lib/python3.7/dist-packages (from qiskit-ibmq-provider==0.19.2->qiskit) (2.8.2)\n",
            "Collecting retworkx>=0.11.0\n",
            "  Downloading retworkx-0.12.0-py3-none-any.whl (10 kB)\n",
            "Collecting shared-memory38\n",
            "  Downloading shared_memory38-0.1.2-cp37-cp37m-manylinux_2_5_x86_64.manylinux1_x86_64.whl (25 kB)\n",
            "Requirement already satisfied: psutil>=5 in /usr/local/lib/python3.7/dist-packages (from qiskit-terra==0.22.0->qiskit) (5.4.8)\n",
            "Requirement already satisfied: sympy>=1.3 in /usr/local/lib/python3.7/dist-packages (from qiskit-terra==0.22.0->qiskit) (1.7.1)\n",
            "Requirement already satisfied: dill>=0.3 in /usr/local/lib/python3.7/dist-packages (from qiskit-terra==0.22.0->qiskit) (0.3.5.1)\n",
            "Collecting symengine>=0.9\n",
            "  Downloading symengine-0.9.2-cp37-cp37m-manylinux2010_x86_64.whl (37.5 MB)\n",
            "\u001b[K     |████████████████████████████████| 37.5 MB 1.7 MB/s \n",
            "\u001b[?25hRequirement already satisfied: typing-extensions in /usr/local/lib/python3.7/dist-packages (from qiskit-terra==0.22.0->qiskit) (4.1.1)\n",
            "Collecting importlib-metadata<5.0\n",
            "  Downloading importlib_metadata-4.13.0-py3-none-any.whl (23 kB)\n",
            "Collecting tweedledum<2.0,>=1.1\n",
            "  Downloading tweedledum-1.1.1-cp37-cp37m-manylinux_2_12_x86_64.manylinux2010_x86_64.whl (943 kB)\n",
            "\u001b[K     |████████████████████████████████| 943 kB 57.7 MB/s \n",
            "\u001b[?25hCollecting ply>=3.10\n",
            "  Downloading ply-3.11-py2.py3-none-any.whl (49 kB)\n",
            "\u001b[K     |████████████████████████████████| 49 kB 6.7 MB/s \n",
            "\u001b[?25hCollecting stevedore>=3.0.0\n",
            "  Downloading stevedore-3.5.1-py3-none-any.whl (50 kB)\n",
            "\u001b[K     |████████████████████████████████| 50 kB 6.4 MB/s \n",
            "\u001b[?25hRequirement already satisfied: zipp>=0.5 in /usr/local/lib/python3.7/dist-packages (from importlib-metadata<5.0->qiskit-terra==0.22.0->qiskit) (3.9.0)\n",
            "Requirement already satisfied: six>=1.5 in /usr/local/lib/python3.7/dist-packages (from python-dateutil>=2.8.0->qiskit-ibmq-provider==0.19.2->qiskit) (1.15.0)\n",
            "Requirement already satisfied: certifi>=2017.4.17 in /usr/local/lib/python3.7/dist-packages (from requests>=2.19->qiskit-ibmq-provider==0.19.2->qiskit) (2022.9.24)\n",
            "Requirement already satisfied: idna<3,>=2.5 in /usr/local/lib/python3.7/dist-packages (from requests>=2.19->qiskit-ibmq-provider==0.19.2->qiskit) (2.10)\n",
            "Requirement already satisfied: chardet<4,>=3.0.2 in /usr/local/lib/python3.7/dist-packages (from requests>=2.19->qiskit-ibmq-provider==0.19.2->qiskit) (3.0.4)\n",
            "Collecting ntlm-auth>=1.0.2\n",
            "  Downloading ntlm_auth-1.5.0-py2.py3-none-any.whl (29 kB)\n",
            "Collecting cryptography>=1.3\n",
            "  Downloading cryptography-38.0.1-cp36-abi3-manylinux_2_24_x86_64.whl (4.0 MB)\n",
            "\u001b[K     |████████████████████████████████| 4.0 MB 35.3 MB/s \n",
            "\u001b[?25hRequirement already satisfied: cffi>=1.12 in /usr/local/lib/python3.7/dist-packages (from cryptography>=1.3->requests-ntlm>=1.1.0->qiskit-ibmq-provider==0.19.2->qiskit) (1.15.1)\n",
            "Requirement already satisfied: pycparser in /usr/local/lib/python3.7/dist-packages (from cffi>=1.12->cryptography>=1.3->requests-ntlm>=1.1.0->qiskit-ibmq-provider==0.19.2->qiskit) (2.21)\n",
            "Collecting rustworkx==0.12.0\n",
            "  Downloading rustworkx-0.12.0-cp37-cp37m-manylinux_2_17_x86_64.manylinux2014_x86_64.whl (1.9 MB)\n",
            "\u001b[K     |████████████████████████████████| 1.9 MB 43.8 MB/s \n",
            "\u001b[?25hCollecting pbr!=2.1.0,>=2.0.0\n",
            "  Downloading pbr-5.10.0-py2.py3-none-any.whl (112 kB)\n",
            "\u001b[K     |████████████████████████████████| 112 kB 64.9 MB/s \n",
            "\u001b[?25hRequirement already satisfied: mpmath>=0.19 in /usr/local/lib/python3.7/dist-packages (from sympy>=1.3->qiskit-terra==0.22.0->qiskit) (1.2.1)\n",
            "Building wheels for collected packages: qiskit\n",
            "  Building wheel for qiskit (setup.py) ... \u001b[?25l\u001b[?25hdone\n",
            "  Created wheel for qiskit: filename=qiskit-0.39.0-py3-none-any.whl size=12188 sha256=7358caa733ba666ad81e97573da11adb4232dcc88b44a6017412f0247f20736f\n",
            "  Stored in directory: /root/.cache/pip/wheels/63/d0/9a/257143dfc211b1732e1dadf41f281d477251d9cc0108a6f209\n",
            "Successfully built qiskit\n",
            "Installing collected packages: rustworkx, pbr, importlib-metadata, tweedledum, symengine, stevedore, shared-memory38, retworkx, ply, ntlm-auth, cryptography, websockets, websocket-client, requests-ntlm, qiskit-terra, qiskit-ibmq-provider, qiskit-aer, qiskit\n",
            "  Attempting uninstall: importlib-metadata\n",
            "    Found existing installation: importlib-metadata 5.0.0\n",
            "    Uninstalling importlib-metadata-5.0.0:\n",
            "      Successfully uninstalled importlib-metadata-5.0.0\n",
            "Successfully installed cryptography-38.0.1 importlib-metadata-4.13.0 ntlm-auth-1.5.0 pbr-5.10.0 ply-3.11 qiskit-0.39.0 qiskit-aer-0.11.0 qiskit-ibmq-provider-0.19.2 qiskit-terra-0.22.0 requests-ntlm-1.1.0 retworkx-0.12.0 rustworkx-0.12.0 shared-memory38-0.1.2 stevedore-3.5.1 symengine-0.9.2 tweedledum-1.1.1 websocket-client-1.4.1 websockets-10.3\n"
          ]
        }
      ],
      "source": [
        "pip install qiskit"
      ]
    },
    {
      "cell_type": "markdown",
      "source": [
        "##0.1- Statevectors"
      ],
      "metadata": {
        "id": "QG2m_FT3GgQ6"
      }
    },
    {
      "cell_type": "code",
      "source": [
        "from qiskit.quantum_info import Statevector\n",
        "zero = Statevector([1,0])\n",
        "print(\"zero is\", zero)"
      ],
      "metadata": {
        "id": "GvoF1FgEFl3_",
        "colab": {
          "base_uri": "https://localhost:8080/"
        },
        "outputId": "5c57fa97-d51e-4228-da17-1077dac098e8"
      },
      "execution_count": 2,
      "outputs": [
        {
          "output_type": "stream",
          "name": "stdout",
          "text": [
            "zero is Statevector([1.+0.j, 0.+0.j],\n",
            "            dims=(2,))\n"
          ]
        }
      ]
    },
    {
      "cell_type": "code",
      "source": [
        "one = Statevector([0,1])\n",
        "print(\"one is\",one)"
      ],
      "metadata": {
        "id": "1uKKAuf2FxZX",
        "colab": {
          "base_uri": "https://localhost:8080/"
        },
        "outputId": "df32fba5-998e-497a-8392-1d511d0d2e68"
      },
      "execution_count": 3,
      "outputs": [
        {
          "output_type": "stream",
          "name": "stdout",
          "text": [
            "one is Statevector([0.+0.j, 1.+0.j],\n",
            "            dims=(2,))\n"
          ]
        }
      ]
    },
    {
      "cell_type": "code",
      "source": [
        "zero = Statevector.from_int(0, dims = 2)\n",
        "one = Statevector.from_int(1, dims = 2)\n",
        "print(\"zero is\",zero)\n",
        "print(\"one is\",one)"
      ],
      "metadata": {
        "id": "h6GDC6mzF1RD",
        "colab": {
          "base_uri": "https://localhost:8080/"
        },
        "outputId": "1585a46a-6a2b-49a0-84ca-50e82dffd397"
      },
      "execution_count": 4,
      "outputs": [
        {
          "output_type": "stream",
          "name": "stdout",
          "text": [
            "zero is Statevector([1.+0.j, 0.+0.j],\n",
            "            dims=(2,))\n",
            "one is Statevector([0.+0.j, 1.+0.j],\n",
            "            dims=(2,))\n"
          ]
        }
      ]
    },
    {
      "cell_type": "code",
      "source": [
        "psi = one.tensor(zero.tensor(zero))\n",
        "print(\"psi is\",psi)"
      ],
      "metadata": {
        "id": "sbAtXwKrF5Wy",
        "colab": {
          "base_uri": "https://localhost:8080/"
        },
        "outputId": "1a2fc348-0dce-416d-ff83-94db4c7a29d3"
      },
      "execution_count": 5,
      "outputs": [
        {
          "output_type": "stream",
          "name": "stdout",
          "text": [
            "psi is Statevector([0.+0.j, 0.+0.j, 0.+0.j, 0.+0.j, 1.+0.j, 0.+0.j, 0.+0.j,\n",
            "             0.+0.j],\n",
            "            dims=(2, 2, 2))\n"
          ]
        }
      ]
    },
    {
      "cell_type": "code",
      "source": [
        "psi = one^zero^zero\n",
        "psi.draw(\"latex\")"
      ],
      "metadata": {
        "id": "nYZQFxuWF-C5",
        "colab": {
          "base_uri": "https://localhost:8080/",
          "height": 37
        },
        "outputId": "b1a4be7f-3e4d-4c6c-e435-e5dc6d98f0a7"
      },
      "execution_count": 6,
      "outputs": [
        {
          "output_type": "execute_result",
          "data": {
            "text/plain": [
              "<IPython.core.display.Latex object>"
            ],
            "text/latex": "$$ |100\\rangle$$"
          },
          "metadata": {},
          "execution_count": 6
        }
      ]
    },
    {
      "cell_type": "code",
      "source": [
        "psi = Statevector.from_int(4, dims = 8)\n",
        "print(psi)\n",
        "psi.draw(\"latex\")"
      ],
      "metadata": {
        "id": "x1kG7llVGGI_",
        "colab": {
          "base_uri": "https://localhost:8080/",
          "height": 91
        },
        "outputId": "b630d054-340b-4177-ad26-b8b4232f32f8"
      },
      "execution_count": 7,
      "outputs": [
        {
          "output_type": "stream",
          "name": "stdout",
          "text": [
            "Statevector([0.+0.j, 0.+0.j, 0.+0.j, 0.+0.j, 1.+0.j, 0.+0.j, 0.+0.j,\n",
            "             0.+0.j],\n",
            "            dims=(2, 2, 2))\n"
          ]
        },
        {
          "output_type": "execute_result",
          "data": {
            "text/plain": [
              "<IPython.core.display.Latex object>"
            ],
            "text/latex": "$$ |100\\rangle$$"
          },
          "metadata": {},
          "execution_count": 7
        }
      ]
    },
    {
      "cell_type": "code",
      "source": [
        "from numpy import sqrt\n",
        "ghz = 1/sqrt(2)*(zero^zero^zero) + 1/sqrt(2)*(one^one^one)\n",
        "ghz.draw(\"latex\")"
      ],
      "metadata": {
        "id": "Xt4vnSoIGJ_I",
        "colab": {
          "base_uri": "https://localhost:8080/",
          "height": 40
        },
        "outputId": "fc509133-4097-4208-8f6f-24f6284437b6"
      },
      "execution_count": 8,
      "outputs": [
        {
          "output_type": "execute_result",
          "data": {
            "text/plain": [
              "<IPython.core.display.Latex object>"
            ],
            "text/latex": "$$\\frac{\\sqrt{2}}{2} |000\\rangle+\\frac{\\sqrt{2}}{2} |111\\rangle$$"
          },
          "metadata": {},
          "execution_count": 8
        }
      ]
    },
    {
      "cell_type": "markdown",
      "source": [
        "##0.2- Hamiltonians"
      ],
      "metadata": {
        "id": "Zvmgs6GrGnQT"
      }
    },
    {
      "cell_type": "code",
      "source": [
        "from qiskit.quantum_info import Pauli\n",
        "Z0Z1 = Pauli(\"ZZI\")\n",
        "print(\"Z0Z1 is\",Z0Z1)\n",
        "print(\"And its matrix is\")\n",
        "print(Z0Z1.to_matrix())"
      ],
      "metadata": {
        "id": "biZDbIE_GYoX",
        "colab": {
          "base_uri": "https://localhost:8080/"
        },
        "outputId": "f298a4e4-7c23-4410-91b3-be1bb6558dcc"
      },
      "execution_count": 9,
      "outputs": [
        {
          "output_type": "stream",
          "name": "stdout",
          "text": [
            "Z0Z1 is ZZI\n",
            "And its matrix is\n",
            "[[ 1.+0.j  0.+0.j  0.+0.j  0.+0.j  0.+0.j  0.+0.j  0.+0.j  0.+0.j]\n",
            " [ 0.+0.j  1.+0.j  0.+0.j  0.+0.j  0.+0.j  0.+0.j  0.+0.j  0.+0.j]\n",
            " [ 0.+0.j  0.+0.j -1.+0.j  0.+0.j  0.+0.j  0.+0.j  0.+0.j  0.+0.j]\n",
            " [ 0.+0.j  0.+0.j  0.+0.j -1.+0.j  0.+0.j  0.+0.j  0.+0.j  0.+0.j]\n",
            " [ 0.+0.j  0.+0.j  0.+0.j  0.+0.j -1.+0.j  0.+0.j  0.+0.j  0.+0.j]\n",
            " [ 0.+0.j  0.+0.j  0.+0.j  0.+0.j  0.+0.j -1.+0.j  0.+0.j  0.+0.j]\n",
            " [ 0.+0.j  0.+0.j  0.+0.j  0.+0.j  0.+0.j  0.+0.j  1.+0.j  0.+0.j]\n",
            " [ 0.+0.j  0.+0.j  0.+0.j  0.+0.j  0.+0.j  0.+0.j  0.+0.j  1.+0.j]]\n"
          ]
        }
      ]
    },
    {
      "cell_type": "code",
      "source": [
        "print(\"The sparse representation of Z0Z1 is\")\n",
        "print(Z0Z1.to_matrix(sparse=True))"
      ],
      "metadata": {
        "id": "lZzT7H3WGqmx",
        "colab": {
          "base_uri": "https://localhost:8080/"
        },
        "outputId": "9bd7c864-b3bb-4f04-fc44-90b71b4edb8e"
      },
      "execution_count": 10,
      "outputs": [
        {
          "output_type": "stream",
          "name": "stdout",
          "text": [
            "The sparse representation of Z0Z1 is\n",
            "  (0, 0)\t(1+0j)\n",
            "  (1, 1)\t(1+0j)\n",
            "  (2, 2)\t(-1+0j)\n",
            "  (3, 3)\t(-1+0j)\n",
            "  (4, 4)\t(-1+0j)\n",
            "  (5, 5)\t(-1+0j)\n",
            "  (6, 6)\t(1+0j)\n",
            "  (7, 7)\t(1+0j)\n"
          ]
        }
      ]
    },
    {
      "cell_type": "code",
      "source": [
        "Z0Z1 = Pauli(([0,1,1],[0,0,0]))\n",
        "print(Z0Z1.to_matrix(sparse=True))"
      ],
      "metadata": {
        "id": "YCmGdR7cG-wk",
        "colab": {
          "base_uri": "https://localhost:8080/"
        },
        "outputId": "68c1a0f3-3d2d-4292-899d-8d5971d89af3"
      },
      "execution_count": 11,
      "outputs": [
        {
          "output_type": "stream",
          "name": "stdout",
          "text": [
            "  (0, 0)\t(1+0j)\n",
            "  (1, 1)\t(1+0j)\n",
            "  (2, 2)\t(-1+0j)\n",
            "  (3, 3)\t(-1+0j)\n",
            "  (4, 4)\t(-1+0j)\n",
            "  (5, 5)\t(-1+0j)\n",
            "  (6, 6)\t(1+0j)\n",
            "  (7, 7)\t(1+0j)\n"
          ]
        }
      ]
    },
    {
      "cell_type": "code",
      "source": [
        "from qiskit.opflow.primitive_ops import PauliOp\n",
        "H_cut = PauliOp(Pauli(\"ZZI\")) + PauliOp(Pauli(\"ZIZ\"))\n",
        "print(\"H_cut is\")\n",
        "print(H_cut)\n",
        "print(\"The sparse representation of H_cut is\")\n",
        "print(H_cut.to_spmatrix())"
      ],
      "metadata": {
        "id": "JZsGLF0lIQQr",
        "colab": {
          "base_uri": "https://localhost:8080/"
        },
        "outputId": "28fcd46c-7e02-4abf-c519-1fa6d977faf7"
      },
      "execution_count": 12,
      "outputs": [
        {
          "output_type": "stream",
          "name": "stdout",
          "text": [
            "H_cut is\n",
            "1.0 * ZZI\n",
            "+ 1.0 * ZIZ\n",
            "The sparse representation of H_cut is\n",
            "  (0, 0)\t(2+0j)\n",
            "  (3, 3)\t(-2+0j)\n",
            "  (4, 4)\t(-2+0j)\n",
            "  (7, 7)\t(2+0j)\n"
          ]
        }
      ]
    },
    {
      "cell_type": "code",
      "source": [
        "from qiskit.opflow import I, Z\n",
        "H_cut = (Z^Z^I) + (Z^I^Z)\n",
        "print(\"H_cut is\")\n",
        "print(H_cut)"
      ],
      "metadata": {
        "id": "zMMEIKWNIT9R",
        "colab": {
          "base_uri": "https://localhost:8080/"
        },
        "outputId": "d8574523-91e6-439b-e855-cd2748d69855"
      },
      "execution_count": 13,
      "outputs": [
        {
          "output_type": "stream",
          "name": "stdout",
          "text": [
            "H_cut is\n",
            "1.0 * ZZI\n",
            "+ 1.0 * ZIZ\n"
          ]
        }
      ]
    },
    {
      "cell_type": "code",
      "source": [
        "H_ising = -0.5*(Z^Z^I) + 2*(Z^I^Z) -(I^Z^Z) + (I^Z^I) -5*(I^I^Z)\n",
        "print(H_ising)"
      ],
      "metadata": {
        "id": "ywsiH4UIItUj",
        "colab": {
          "base_uri": "https://localhost:8080/"
        },
        "outputId": "c497d16a-b603-438a-9ec0-cdfe7dcf5ec6"
      },
      "execution_count": 14,
      "outputs": [
        {
          "output_type": "stream",
          "name": "stdout",
          "text": [
            "-0.5 * ZZI\n",
            "+ 2.0 * ZIZ\n",
            "- 1.0 * IZZ\n",
            "+ 1.0 * IZI\n",
            "- 5.0 * IIZ\n"
          ]
        }
      ]
    },
    {
      "cell_type": "markdown",
      "source": [
        "##0.3- Expectation values"
      ],
      "metadata": {
        "id": "N0l09joRI1qB"
      }
    },
    {
      "cell_type": "code",
      "source": [
        "print(\"The expectation value is\", psi.expectation_value(H_cut))\n"
      ],
      "metadata": {
        "id": "NRMwPowaIyrE",
        "colab": {
          "base_uri": "https://localhost:8080/"
        },
        "outputId": "f9c16f5a-cffb-4761-c24f-63cce700fa29"
      },
      "execution_count": 15,
      "outputs": [
        {
          "output_type": "stream",
          "name": "stdout",
          "text": [
            "The expectation value is (-2+0j)\n"
          ]
        }
      ]
    },
    {
      "cell_type": "code",
      "source": [
        "print(\"The expectation value is\", psi.inner(psi.evolve(H_cut)))\n"
      ],
      "metadata": {
        "id": "kOr0ng8xI6Wr",
        "colab": {
          "base_uri": "https://localhost:8080/"
        },
        "outputId": "bf345e52-a34a-40fd-d58e-39e6a2273f54"
      },
      "execution_count": 16,
      "outputs": [
        {
          "output_type": "stream",
          "name": "stdout",
          "text": [
            "The expectation value is (-2+0j)\n"
          ]
        }
      ]
    },
    {
      "cell_type": "code",
      "source": [
        "for x in range(8): # We consider x=0,1...7\n",
        "    psi = psi = Statevector.from_int(x, dims = 8)\n",
        "    print(\"The expectation value of |\",x,\">\", \"is\", \n",
        "        psi.expectation_value(H_cut))"
      ],
      "metadata": {
        "id": "GJXfu1ffJBq2",
        "colab": {
          "base_uri": "https://localhost:8080/"
        },
        "outputId": "5b97ce16-e220-4049-9073-0875be3d5971"
      },
      "execution_count": 17,
      "outputs": [
        {
          "output_type": "stream",
          "name": "stdout",
          "text": [
            "The expectation value of | 0 > is (2+0j)\n",
            "The expectation value of | 1 > is 0j\n",
            "The expectation value of | 2 > is 0j\n",
            "The expectation value of | 3 > is (-2+0j)\n",
            "The expectation value of | 4 > is (-2+0j)\n",
            "The expectation value of | 5 > is 0j\n",
            "The expectation value of | 6 > is 0j\n",
            "The expectation value of | 7 > is (2+0j)\n"
          ]
        }
      ]
    }
  ]
}