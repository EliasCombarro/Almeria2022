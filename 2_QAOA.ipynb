{
  "nbformat": 4,
  "nbformat_minor": 0,
  "metadata": {
    "colab": {
      "provenance": [],
      "collapsed_sections": []
    },
    "kernelspec": {
      "name": "python3",
      "display_name": "Python 3"
    },
    "language_info": {
      "name": "python"
    }
  },
  "cells": [
    {
      "cell_type": "markdown",
      "source": [
        "#2.- QAOA\n",
        "\n",
        "### Setup"
      ],
      "metadata": {
        "id": "U2Sd1mDpyQ9E"
      }
    },
    {
      "cell_type": "code",
      "execution_count": null,
      "metadata": {
        "id": "0jzhxopCxeJz"
      },
      "outputs": [],
      "source": [
        "pip install qiskit"
      ]
    },
    {
      "cell_type": "code",
      "source": [
        "pip install qiskit-optimization"
      ],
      "metadata": {
        "id": "ygN0PPd_xoLU"
      },
      "execution_count": null,
      "outputs": []
    },
    {
      "cell_type": "code",
      "source": [
        "pip install pylatexenc"
      ],
      "metadata": {
        "id": "u7WsETz2yfDy"
      },
      "execution_count": null,
      "outputs": []
    },
    {
      "cell_type": "code",
      "source": [
        "token = \"\""
      ],
      "metadata": {
        "id": "iKU3RovckA0I"
      },
      "execution_count": null,
      "outputs": []
    },
    {
      "cell_type": "markdown",
      "source": [
        "##2.1- Using QAOA with Hamiltonians"
      ],
      "metadata": {
        "id": "qMC67bzcyVnU"
      }
    },
    {
      "cell_type": "code",
      "source": [
        "from qiskit.opflow import Z\n",
        "from qiskit.algorithms import QAOA\n",
        "\n",
        "H1 = Z^Z # Define Z_0Z_1\n",
        "qaoa = QAOA()\n",
        "circuit = qaoa.construct_circuit([1,2],H1)[0]\n",
        "circuit.draw(output=\"mpl\")"
      ],
      "metadata": {
        "id": "G9eXuA9gyBSY"
      },
      "execution_count": null,
      "outputs": []
    },
    {
      "cell_type": "code",
      "source": [
        "circuit.decompose().decompose().draw(output=\"mpl\")"
      ],
      "metadata": {
        "id": "ZuKdmRaTyYgY"
      },
      "execution_count": null,
      "outputs": []
    },
    {
      "cell_type": "code",
      "source": [
        "qaoa = QAOA(reps = 2)\n",
        "circuit = qaoa.construct_circuit([1,2,3,4],H1)[0]\n",
        "circuit.decompose().decompose().draw(output=\"mpl\")"
      ],
      "metadata": {
        "id": "D-LVuod9y0Ul"
      },
      "execution_count": null,
      "outputs": []
    },
    {
      "cell_type": "code",
      "source": [
        "from qiskit.utils import algorithm_globals, QuantumInstance\n",
        "from qiskit import Aer\n",
        "from qiskit.algorithms.optimizers import COBYLA\n",
        "\n",
        "seed = 1234\n",
        "algorithm_globals.random_seed = seed\n",
        "quantum_instance = QuantumInstance(Aer.get_backend(\"aer_simulator\"), \n",
        "                   seed_simulator=seed, seed_transpiler=seed, \n",
        "                   shots = 10)\n",
        "qaoa = QAOA(optimizer = COBYLA(), quantum_instance=quantum_instance)\n",
        "result = qaoa.compute_minimum_eigenvalue(H1)\n",
        "print(result)"
      ],
      "metadata": {
        "id": "LVXjeDJhzA_W"
      },
      "execution_count": null,
      "outputs": []
    },
    {
      "cell_type": "markdown",
      "source": [
        "### Using Runtime"
      ],
      "metadata": {
        "id": "f_OkI_NuTEEP"
      }
    },
    {
      "cell_type": "code",
      "source": [
        "from qiskit import IBMQ\n",
        "\n",
        "IBMQ.save_account(token)\n",
        "\n",
        "provider = IBMQ.load_account()\n",
        "program_id = \"qaoa\"\n",
        "\n",
        "H1 = Z^Z\n",
        "opt = COBYLA()\n",
        "reps = 1\n",
        "shots = 1024\n",
        "\n",
        "runtime_inputs = {\n",
        "    \"operator\": H1,\n",
        "    \"reps\": reps,\n",
        "    \"optimizer\": opt,\n",
        "    \"initial_point\": [0,0],\n",
        "    \"use_swap_strategies\": False\n",
        "}\n",
        "\n",
        "#options = {\"backend_name\": \"ibmq_belem\"}\n",
        "options = {\"backend_name\": \"ibmq_qasm_simulator\"}\n",
        "\n",
        "job = provider.runtime.run(program_id=program_id, \n",
        "      options=options, inputs=runtime_inputs)"
      ],
      "metadata": {
        "id": "ZUJricUrz3L3"
      },
      "execution_count": null,
      "outputs": []
    },
    {
      "cell_type": "code",
      "source": [
        "job.status()"
      ],
      "metadata": {
        "id": "0kMDZwN6TlNd"
      },
      "execution_count": null,
      "outputs": []
    },
    {
      "cell_type": "code",
      "source": [
        "result = job.result()\n",
        "print(\"Optimizer time\", result['optimizer_time'])\n",
        "print(\"Optimal value\", result['optimal_value'])\n",
        "print(\"Optimal point\", result['optimal_point'])\n",
        "print(\"Optimal state\", result['eigenstate'])"
      ],
      "metadata": {
        "id": "7DH8vGVsT9Dq"
      },
      "execution_count": null,
      "outputs": []
    },
    {
      "cell_type": "markdown",
      "source": [
        "## 2.2- Solving QUBO problems with QAOA in Qiskit"
      ],
      "metadata": {
        "id": "MOZ7VVZYUeJH"
      }
    },
    {
      "cell_type": "code",
      "source": [
        "from qiskit_optimization.problems import QuadraticProgram\n",
        "\n",
        "qp = QuadraticProgram()\n",
        "qp.binary_var('x')\n",
        "qp.binary_var('y')\n",
        "qp.binary_var('z')\n",
        "\n",
        "qp.minimize(linear = {'y':-1}, quadratic = {('x','y'):2, ('z','y'):-4})\n",
        "qp.linear_constraint(linear = {'x':1, 'y':2, 'z':3}, \n",
        "    sense =\"<=\", rhs = 5)\n",
        "\n",
        "print(qp.export_as_lp_string())"
      ],
      "metadata": {
        "id": "ZzsU1HzFT-yS"
      },
      "execution_count": null,
      "outputs": []
    },
    {
      "cell_type": "code",
      "source": [
        "from qiskit_optimization.algorithms import MinimumEigenOptimizer\n",
        "from qiskit.algorithms import NumPyMinimumEigensolver\n",
        "np_solver = NumPyMinimumEigensolver()\n",
        "np_optimizer = MinimumEigenOptimizer(np_solver)\n",
        "result = np_optimizer.solve(qp)\n",
        "print(result)"
      ],
      "metadata": {
        "id": "Miixj6krNGkw"
      },
      "execution_count": null,
      "outputs": []
    },
    {
      "cell_type": "code",
      "source": [
        "from qiskit import Aer\n",
        "from qiskit.algorithms import QAOA\n",
        "from qiskit.algorithms.optimizers import COBYLA\n",
        "from qiskit.utils import QuantumInstance\n",
        "quantum_instance = QuantumInstance(Aer.get_backend(\"aer_simulator\"), \n",
        "    shots = 1024)\n",
        "qaoa = QAOA(optimizer = COBYLA(), \n",
        "    quantum_instance=quantum_instance, reps = 1)  \n",
        "qaoa_optimizer = MinimumEigenOptimizer(qaoa)\n",
        "result = qaoa_optimizer.solve(qp)\n",
        "print(result)"
      ],
      "metadata": {
        "id": "FJDlFXwDUnbG"
      },
      "execution_count": null,
      "outputs": []
    },
    {
      "cell_type": "code",
      "source": [
        "print('Variable order:', [var.name for var in result.variables])\n",
        "for s in result.samples:\n",
        "    print(s)"
      ],
      "metadata": {
        "id": "U9wF4Ds9Ushm"
      },
      "execution_count": null,
      "outputs": []
    },
    {
      "cell_type": "code",
      "source": [
        "print(result.min_eigen_solver_result)"
      ],
      "metadata": {
        "id": "JPcAPc84UwRY"
      },
      "execution_count": null,
      "outputs": []
    },
    {
      "cell_type": "markdown",
      "source": [
        "### Transforming the problem into the Ising model"
      ],
      "metadata": {
        "id": "bXYnEhfNV5hX"
      }
    },
    {
      "cell_type": "code",
      "source": [
        "from qiskit_optimization.converters import QuadraticProgramToQubo\n",
        "qp_to_qubo = QuadraticProgramToQubo()\n",
        "qubo = qp_to_qubo.convert(qp)\n",
        "print(qubo.export_as_lp_string())"
      ],
      "metadata": {
        "id": "42Y-MzYmU63t"
      },
      "execution_count": null,
      "outputs": []
    },
    {
      "cell_type": "code",
      "source": [
        "H1, offset = qubo.to_ising()\n",
        "print(\"The Hamiltonian is\", H1)\n",
        "print(\"The constant term is\", offset)"
      ],
      "metadata": {
        "id": "UHiacsYjVC_l"
      },
      "execution_count": null,
      "outputs": []
    },
    {
      "cell_type": "markdown",
      "source": [
        "### Using Runtime"
      ],
      "metadata": {
        "id": "OBPe-1d6V_U3"
      }
    },
    {
      "cell_type": "code",
      "source": [
        "from qiskit_optimization.runtime import QAOAClient\n",
        "from qiskit import IBMQ\n",
        "\n",
        "provider = IBMQ.load_account()\n",
        "qaoa_client = QAOAClient(provider=provider, \n",
        "                      #backend=provider.get_backend(\"ibm_manila\"), reps=1)\n",
        "                      backend=provider.get_backend(\"ibmq_qasm_simulator\"), reps=1)\n",
        "\n",
        "qaoa = MinimumEigenOptimizer(qaoa_client)\n",
        "result = qaoa.solve(qp)\n",
        "print(result)"
      ],
      "metadata": {
        "id": "5lT1_8U3VLvU"
      },
      "execution_count": null,
      "outputs": []
    },
    {
      "cell_type": "code",
      "source": [
        "print('Variable order:', [var.name for var in result.variables])\n",
        "for s in result.samples:\n",
        "    print(s)"
      ],
      "metadata": {
        "id": "buPv6VQ6VsG3"
      },
      "execution_count": null,
      "outputs": []
    },
    {
      "cell_type": "code",
      "source": [
        "print(result.min_eigen_solver_result)"
      ],
      "metadata": {
        "id": "J5AkBIFVWJTc"
      },
      "execution_count": null,
      "outputs": []
    }
  ]
}